{
 "cells": [
  {
   "cell_type": "code",
   "execution_count": 1,
   "id": "ddf8555a",
   "metadata": {
    "_cell_guid": "b1076dfc-b9ad-4769-8c92-a6c4dae69d19",
    "_uuid": "8f2839f25d086af736a60e9eeb907d3b93b6e0e5",
    "execution": {
     "iopub.execute_input": "2023-08-04T13:51:11.774499Z",
     "iopub.status.busy": "2023-08-04T13:51:11.773907Z",
     "iopub.status.idle": "2023-08-04T13:51:11.792779Z",
     "shell.execute_reply": "2023-08-04T13:51:11.791419Z"
    },
    "papermill": {
     "duration": 0.047095,
     "end_time": "2023-08-04T13:51:11.796471",
     "exception": false,
     "start_time": "2023-08-04T13:51:11.749376",
     "status": "completed"
    },
    "tags": []
   },
   "outputs": [
    {
     "name": "stdout",
     "output_type": "stream",
     "text": [
      "/kaggle/input/sentiment-prediction-on-movie-reviews/movies.csv\n",
      "/kaggle/input/sentiment-prediction-on-movie-reviews/sample.csv\n",
      "/kaggle/input/sentiment-prediction-on-movie-reviews/train.csv\n",
      "/kaggle/input/sentiment-prediction-on-movie-reviews/test.csv\n"
     ]
    }
   ],
   "source": [
    "# This Python 3 environment comes with many helpful analytics libraries installed\n",
    "# It is defined by the kaggle/python Docker image: https://github.com/kaggle/docker-python\n",
    "# For example, here's several helpful packages to load\n",
    "\n",
    "import numpy as np # linear algebra\n",
    "import pandas as pd # data processing, CSV file I/O (e.g. pd.read_csv)\n",
    "\n",
    "# Input data files are available in the read-only \"../input/\" directory\n",
    "# For example, running this (by clicking run or pressing Shift+Enter) will list all files under the input directory\n",
    "\n",
    "import os\n",
    "for dirname, _, filenames in os.walk('/kaggle/input'):\n",
    "    for filename in filenames:\n",
    "        print(os.path.join(dirname, filename))\n",
    "\n",
    "# You can write up to 20GB to the current directory (/kaggle/working/) that gets preserved as output when you create a version using \"Save & Run All\" \n",
    "# You can also write temporary files to /kaggle/temp/, but they won't be saved outside of the current session"
   ]
  },
  {
   "cell_type": "markdown",
   "id": "567f21be",
   "metadata": {
    "papermill": {
     "duration": 0.020751,
     "end_time": "2023-08-04T13:51:11.839705",
     "exception": false,
     "start_time": "2023-08-04T13:51:11.818954",
     "status": "completed"
    },
    "tags": []
   },
   "source": [
    "# EDA"
   ]
  },
  {
   "cell_type": "code",
   "execution_count": 2,
   "id": "366a542b",
   "metadata": {
    "execution": {
     "iopub.execute_input": "2023-08-04T13:51:11.884306Z",
     "iopub.status.busy": "2023-08-04T13:51:11.883946Z",
     "iopub.status.idle": "2023-08-04T13:51:12.890526Z",
     "shell.execute_reply": "2023-08-04T13:51:12.889346Z"
    },
    "papermill": {
     "duration": 1.03244,
     "end_time": "2023-08-04T13:51:12.893592",
     "exception": false,
     "start_time": "2023-08-04T13:51:11.861152",
     "status": "completed"
    },
    "tags": []
   },
   "outputs": [
    {
     "data": {
      "text/plain": [
       "(162758, 5)"
      ]
     },
     "execution_count": 2,
     "metadata": {},
     "output_type": "execute_result"
    }
   ],
   "source": [
    "# Reading Train data\n",
    "\n",
    "train=pd.read_csv(\"../input/sentiment-prediction-on-movie-reviews/train.csv\")\n",
    "train.shape"
   ]
  },
  {
   "cell_type": "markdown",
   "id": "5613a13a",
   "metadata": {
    "papermill": {
     "duration": 0.021016,
     "end_time": "2023-08-04T13:51:12.937174",
     "exception": false,
     "start_time": "2023-08-04T13:51:12.916158",
     "status": "completed"
    },
    "tags": []
   },
   "source": [
    "Training set has 162758 data points and 5 features"
   ]
  },
  {
   "cell_type": "code",
   "execution_count": 3,
   "id": "11dec28e",
   "metadata": {
    "execution": {
     "iopub.execute_input": "2023-08-04T13:51:12.983282Z",
     "iopub.status.busy": "2023-08-04T13:51:12.981967Z",
     "iopub.status.idle": "2023-08-04T13:51:13.131895Z",
     "shell.execute_reply": "2023-08-04T13:51:13.129957Z"
    },
    "papermill": {
     "duration": 0.176664,
     "end_time": "2023-08-04T13:51:13.134872",
     "exception": false,
     "start_time": "2023-08-04T13:51:12.958208",
     "status": "completed"
    },
    "tags": []
   },
   "outputs": [
    {
     "name": "stdout",
     "output_type": "stream",
     "text": [
      "<class 'pandas.core.frame.DataFrame'>\n",
      "RangeIndex: 162758 entries, 0 to 162757\n",
      "Data columns (total 5 columns):\n",
      " #   Column              Non-Null Count   Dtype \n",
      "---  ------              --------------   ----- \n",
      " 0   movieid             162758 non-null  object\n",
      " 1   reviewerName        162758 non-null  object\n",
      " 2   isFrequentReviewer  162758 non-null  bool  \n",
      " 3   reviewText          156311 non-null  object\n",
      " 4   sentiment           162758 non-null  object\n",
      "dtypes: bool(1), object(4)\n",
      "memory usage: 5.1+ MB\n"
     ]
    }
   ],
   "source": [
    "train.info()"
   ]
  },
  {
   "cell_type": "markdown",
   "id": "1c595f9c",
   "metadata": {
    "papermill": {
     "duration": 0.022464,
     "end_time": "2023-08-04T13:51:13.180158",
     "exception": false,
     "start_time": "2023-08-04T13:51:13.157694",
     "status": "completed"
    },
    "tags": []
   },
   "source": [
    "There is a single feature of boolean type and others are objects"
   ]
  },
  {
   "cell_type": "code",
   "execution_count": 4,
   "id": "e8d9bd1a",
   "metadata": {
    "execution": {
     "iopub.execute_input": "2023-08-04T13:51:13.231962Z",
     "iopub.status.busy": "2023-08-04T13:51:13.231205Z",
     "iopub.status.idle": "2023-08-04T13:51:13.259597Z",
     "shell.execute_reply": "2023-08-04T13:51:13.258160Z"
    },
    "papermill": {
     "duration": 0.058621,
     "end_time": "2023-08-04T13:51:13.262321",
     "exception": false,
     "start_time": "2023-08-04T13:51:13.203700",
     "status": "completed"
    },
    "tags": []
   },
   "outputs": [
    {
     "data": {
      "text/html": [
       "<div>\n",
       "<style scoped>\n",
       "    .dataframe tbody tr th:only-of-type {\n",
       "        vertical-align: middle;\n",
       "    }\n",
       "\n",
       "    .dataframe tbody tr th {\n",
       "        vertical-align: top;\n",
       "    }\n",
       "\n",
       "    .dataframe thead th {\n",
       "        text-align: right;\n",
       "    }\n",
       "</style>\n",
       "<table border=\"1\" class=\"dataframe\">\n",
       "  <thead>\n",
       "    <tr style=\"text-align: right;\">\n",
       "      <th></th>\n",
       "      <th>movieid</th>\n",
       "      <th>reviewerName</th>\n",
       "      <th>isFrequentReviewer</th>\n",
       "      <th>reviewText</th>\n",
       "      <th>sentiment</th>\n",
       "    </tr>\n",
       "  </thead>\n",
       "  <tbody>\n",
       "    <tr>\n",
       "      <th>0</th>\n",
       "      <td>marvelous_pirate</td>\n",
       "      <td>Benjamin Henry</td>\n",
       "      <td>False</td>\n",
       "      <td>Henry Selick’s first movie since 2009’s Corali...</td>\n",
       "      <td>POSITIVE</td>\n",
       "    </tr>\n",
       "    <tr>\n",
       "      <th>1</th>\n",
       "      <td>tony_montana_frodo_baggins_v_rocky_balboa</td>\n",
       "      <td>Felicia Lopez</td>\n",
       "      <td>False</td>\n",
       "      <td>With a cast that reads like the Vogue Oscar pa...</td>\n",
       "      <td>NEGATIVE</td>\n",
       "    </tr>\n",
       "    <tr>\n",
       "      <th>2</th>\n",
       "      <td>darth_vader_katniss_everdeen_sorcerer_donnie_d...</td>\n",
       "      <td>Mr. Charles Burgess</td>\n",
       "      <td>True</td>\n",
       "      <td>Creed II does not give us anything but another...</td>\n",
       "      <td>POSITIVE</td>\n",
       "    </tr>\n",
       "    <tr>\n",
       "      <th>3</th>\n",
       "      <td>lara_croft_glimmer</td>\n",
       "      <td>Ryan Barrett</td>\n",
       "      <td>False</td>\n",
       "      <td>I know what you're thinking, but this is no Li...</td>\n",
       "      <td>POSITIVE</td>\n",
       "    </tr>\n",
       "    <tr>\n",
       "      <th>4</th>\n",
       "      <td>jason_bourne_surreal_the_terminator_indiana_jones</td>\n",
       "      <td>Alexander Glover</td>\n",
       "      <td>False</td>\n",
       "      <td>Director Fernando Meirelles tells the story wi...</td>\n",
       "      <td>POSITIVE</td>\n",
       "    </tr>\n",
       "  </tbody>\n",
       "</table>\n",
       "</div>"
      ],
      "text/plain": [
       "                                             movieid         reviewerName  \\\n",
       "0                                   marvelous_pirate       Benjamin Henry   \n",
       "1          tony_montana_frodo_baggins_v_rocky_balboa        Felicia Lopez   \n",
       "2  darth_vader_katniss_everdeen_sorcerer_donnie_d...  Mr. Charles Burgess   \n",
       "3                                 lara_croft_glimmer         Ryan Barrett   \n",
       "4  jason_bourne_surreal_the_terminator_indiana_jones     Alexander Glover   \n",
       "\n",
       "   isFrequentReviewer                                         reviewText  \\\n",
       "0               False  Henry Selick’s first movie since 2009’s Corali...   \n",
       "1               False  With a cast that reads like the Vogue Oscar pa...   \n",
       "2                True  Creed II does not give us anything but another...   \n",
       "3               False  I know what you're thinking, but this is no Li...   \n",
       "4               False  Director Fernando Meirelles tells the story wi...   \n",
       "\n",
       "  sentiment  \n",
       "0  POSITIVE  \n",
       "1  NEGATIVE  \n",
       "2  POSITIVE  \n",
       "3  POSITIVE  \n",
       "4  POSITIVE  "
      ]
     },
     "execution_count": 4,
     "metadata": {},
     "output_type": "execute_result"
    }
   ],
   "source": [
    "train.head()"
   ]
  },
  {
   "cell_type": "code",
   "execution_count": 5,
   "id": "6025acbe",
   "metadata": {
    "execution": {
     "iopub.execute_input": "2023-08-04T13:51:13.319491Z",
     "iopub.status.busy": "2023-08-04T13:51:13.319073Z",
     "iopub.status.idle": "2023-08-04T13:51:13.453825Z",
     "shell.execute_reply": "2023-08-04T13:51:13.452299Z"
    },
    "papermill": {
     "duration": 0.164556,
     "end_time": "2023-08-04T13:51:13.456614",
     "exception": false,
     "start_time": "2023-08-04T13:51:13.292058",
     "status": "completed"
    },
    "tags": []
   },
   "outputs": [
    {
     "data": {
      "text/plain": [
       "movieid                  0\n",
       "reviewerName             0\n",
       "isFrequentReviewer       0\n",
       "reviewText            6447\n",
       "sentiment                0\n",
       "dtype: int64"
      ]
     },
     "execution_count": 5,
     "metadata": {},
     "output_type": "execute_result"
    }
   ],
   "source": [
    "# Count null values in train data\n",
    "\n",
    "details = pd.DataFrame(train, columns =['movieid', 'reviewerName','isFrequentReviewer','reviewText','sentiment'])\n",
    "details.isnull().sum()  "
   ]
  },
  {
   "cell_type": "code",
   "execution_count": 6,
   "id": "f91297aa",
   "metadata": {
    "execution": {
     "iopub.execute_input": "2023-08-04T13:51:13.507909Z",
     "iopub.status.busy": "2023-08-04T13:51:13.507206Z",
     "iopub.status.idle": "2023-08-04T13:51:14.508731Z",
     "shell.execute_reply": "2023-08-04T13:51:14.507548Z"
    },
    "papermill": {
     "duration": 1.030387,
     "end_time": "2023-08-04T13:51:14.511386",
     "exception": false,
     "start_time": "2023-08-04T13:51:13.480999",
     "status": "completed"
    },
    "tags": []
   },
   "outputs": [
    {
     "data": {
      "text/plain": [
       "(143258, 14)"
      ]
     },
     "execution_count": 6,
     "metadata": {},
     "output_type": "execute_result"
    }
   ],
   "source": [
    "# Reading movies data\n",
    "\n",
    "movies_dataset=pd.read_csv(\"../input/sentiment-prediction-on-movie-reviews/movies.csv\")\n",
    "movies_dataset.shape"
   ]
  },
  {
   "cell_type": "code",
   "execution_count": 7,
   "id": "73a09bb3",
   "metadata": {
    "execution": {
     "iopub.execute_input": "2023-08-04T13:51:14.560717Z",
     "iopub.status.busy": "2023-08-04T13:51:14.560298Z",
     "iopub.status.idle": "2023-08-04T13:51:14.837391Z",
     "shell.execute_reply": "2023-08-04T13:51:14.836080Z"
    },
    "papermill": {
     "duration": 0.30448,
     "end_time": "2023-08-04T13:51:14.840011",
     "exception": false,
     "start_time": "2023-08-04T13:51:14.535531",
     "status": "completed"
    },
    "tags": []
   },
   "outputs": [
    {
     "name": "stdout",
     "output_type": "stream",
     "text": [
      "<class 'pandas.core.frame.DataFrame'>\n",
      "RangeIndex: 143258 entries, 0 to 143257\n",
      "Data columns (total 14 columns):\n",
      " #   Column                Non-Null Count   Dtype  \n",
      "---  ------                --------------   -----  \n",
      " 0   movieid               143258 non-null  object \n",
      " 1   title                 143258 non-null  object \n",
      " 2   audienceScore         73248 non-null   float64\n",
      " 3   rating                13991 non-null   object \n",
      " 4   ratingContents        13991 non-null   object \n",
      " 5   releaseDateTheaters   30773 non-null   object \n",
      " 6   releaseDateStreaming  79420 non-null   object \n",
      " 7   runtimeMinutes        129431 non-null  float64\n",
      " 8   genre                 132175 non-null  object \n",
      " 9   originalLanguage      129400 non-null  object \n",
      " 10  director              143258 non-null  object \n",
      " 11  boxOffice             14743 non-null   object \n",
      " 12  distributor           23005 non-null   object \n",
      " 13  soundType             15917 non-null   object \n",
      "dtypes: float64(2), object(12)\n",
      "memory usage: 15.3+ MB\n"
     ]
    }
   ],
   "source": [
    "movies_dataset.info()"
   ]
  },
  {
   "cell_type": "code",
   "execution_count": 8,
   "id": "a616f1bf",
   "metadata": {
    "execution": {
     "iopub.execute_input": "2023-08-04T13:51:14.888218Z",
     "iopub.status.busy": "2023-08-04T13:51:14.887837Z",
     "iopub.status.idle": "2023-08-04T13:51:14.907503Z",
     "shell.execute_reply": "2023-08-04T13:51:14.906711Z"
    },
    "papermill": {
     "duration": 0.046095,
     "end_time": "2023-08-04T13:51:14.909653",
     "exception": false,
     "start_time": "2023-08-04T13:51:14.863558",
     "status": "completed"
    },
    "tags": []
   },
   "outputs": [
    {
     "data": {
      "text/html": [
       "<div>\n",
       "<style scoped>\n",
       "    .dataframe tbody tr th:only-of-type {\n",
       "        vertical-align: middle;\n",
       "    }\n",
       "\n",
       "    .dataframe tbody tr th {\n",
       "        vertical-align: top;\n",
       "    }\n",
       "\n",
       "    .dataframe thead th {\n",
       "        text-align: right;\n",
       "    }\n",
       "</style>\n",
       "<table border=\"1\" class=\"dataframe\">\n",
       "  <thead>\n",
       "    <tr style=\"text-align: right;\">\n",
       "      <th></th>\n",
       "      <th>movieid</th>\n",
       "      <th>title</th>\n",
       "      <th>audienceScore</th>\n",
       "      <th>rating</th>\n",
       "      <th>ratingContents</th>\n",
       "      <th>releaseDateTheaters</th>\n",
       "      <th>releaseDateStreaming</th>\n",
       "      <th>runtimeMinutes</th>\n",
       "      <th>genre</th>\n",
       "      <th>originalLanguage</th>\n",
       "      <th>director</th>\n",
       "      <th>boxOffice</th>\n",
       "      <th>distributor</th>\n",
       "      <th>soundType</th>\n",
       "    </tr>\n",
       "  </thead>\n",
       "  <tbody>\n",
       "    <tr>\n",
       "      <th>0</th>\n",
       "      <td>han_solo_heroic_myth_wonder_woman</td>\n",
       "      <td>Han Solo Heroic Myth Wonder Woman</td>\n",
       "      <td>50.0</td>\n",
       "      <td>NaN</td>\n",
       "      <td>NaN</td>\n",
       "      <td>NaN</td>\n",
       "      <td>2018-08-25</td>\n",
       "      <td>75.0</td>\n",
       "      <td>Comedy, Horror, Sci-fi</td>\n",
       "      <td>English</td>\n",
       "      <td>Claude Nicolet</td>\n",
       "      <td>NaN</td>\n",
       "      <td>NaN</td>\n",
       "      <td>NaN</td>\n",
       "    </tr>\n",
       "    <tr>\n",
       "      <th>1</th>\n",
       "      <td>voyage_tyler_durden_han_solo_stardust</td>\n",
       "      <td>Voyage Tyler Durden Han Solo Stardust</td>\n",
       "      <td>NaN</td>\n",
       "      <td>NaN</td>\n",
       "      <td>NaN</td>\n",
       "      <td>NaN</td>\n",
       "      <td>2020-02-11</td>\n",
       "      <td>114.0</td>\n",
       "      <td>Drama</td>\n",
       "      <td>English</td>\n",
       "      <td>Nathan Haack</td>\n",
       "      <td>NaN</td>\n",
       "      <td>NaN</td>\n",
       "      <td>NaN</td>\n",
       "    </tr>\n",
       "    <tr>\n",
       "      <th>2</th>\n",
       "      <td>norman_bates_ferris_bueller_hermione_granger_v...</td>\n",
       "      <td>Norman Bates Ferris Bueller Hermione Granger V...</td>\n",
       "      <td>43.0</td>\n",
       "      <td>NaN</td>\n",
       "      <td>NaN</td>\n",
       "      <td>NaN</td>\n",
       "      <td>NaN</td>\n",
       "      <td>120.0</td>\n",
       "      <td>Drama</td>\n",
       "      <td>Korean</td>\n",
       "      <td>Theresa Smith</td>\n",
       "      <td>NaN</td>\n",
       "      <td>NaN</td>\n",
       "      <td>NaN</td>\n",
       "    </tr>\n",
       "    <tr>\n",
       "      <th>3</th>\n",
       "      <td>elegant_hermione_granger</td>\n",
       "      <td>Elegant Hermione Granger</td>\n",
       "      <td>60.0</td>\n",
       "      <td>NaN</td>\n",
       "      <td>NaN</td>\n",
       "      <td>NaN</td>\n",
       "      <td>2020-10-23</td>\n",
       "      <td>90.0</td>\n",
       "      <td>Action, Mystery &amp; thriller</td>\n",
       "      <td>English</td>\n",
       "      <td>Donald Lewis</td>\n",
       "      <td>NaN</td>\n",
       "      <td>NaN</td>\n",
       "      <td>NaN</td>\n",
       "    </tr>\n",
       "    <tr>\n",
       "      <th>4</th>\n",
       "      <td>adventure_rocky_balboa</td>\n",
       "      <td>Adventure Rocky Balboa</td>\n",
       "      <td>70.0</td>\n",
       "      <td>NaN</td>\n",
       "      <td>NaN</td>\n",
       "      <td>NaN</td>\n",
       "      <td>2017-03-27</td>\n",
       "      <td>80.0</td>\n",
       "      <td>Fantasy, Adventure, Animation</td>\n",
       "      <td>English</td>\n",
       "      <td>Howard Simms</td>\n",
       "      <td>NaN</td>\n",
       "      <td>NaN</td>\n",
       "      <td>NaN</td>\n",
       "    </tr>\n",
       "  </tbody>\n",
       "</table>\n",
       "</div>"
      ],
      "text/plain": [
       "                                             movieid  \\\n",
       "0                  han_solo_heroic_myth_wonder_woman   \n",
       "1              voyage_tyler_durden_han_solo_stardust   \n",
       "2  norman_bates_ferris_bueller_hermione_granger_v...   \n",
       "3                           elegant_hermione_granger   \n",
       "4                             adventure_rocky_balboa   \n",
       "\n",
       "                                               title  audienceScore rating  \\\n",
       "0                  Han Solo Heroic Myth Wonder Woman           50.0    NaN   \n",
       "1              Voyage Tyler Durden Han Solo Stardust            NaN    NaN   \n",
       "2  Norman Bates Ferris Bueller Hermione Granger V...           43.0    NaN   \n",
       "3                           Elegant Hermione Granger           60.0    NaN   \n",
       "4                             Adventure Rocky Balboa           70.0    NaN   \n",
       "\n",
       "  ratingContents releaseDateTheaters releaseDateStreaming  runtimeMinutes  \\\n",
       "0            NaN                 NaN           2018-08-25            75.0   \n",
       "1            NaN                 NaN           2020-02-11           114.0   \n",
       "2            NaN                 NaN                  NaN           120.0   \n",
       "3            NaN                 NaN           2020-10-23            90.0   \n",
       "4            NaN                 NaN           2017-03-27            80.0   \n",
       "\n",
       "                           genre originalLanguage        director boxOffice  \\\n",
       "0         Comedy, Horror, Sci-fi          English  Claude Nicolet       NaN   \n",
       "1                          Drama          English    Nathan Haack       NaN   \n",
       "2                          Drama           Korean   Theresa Smith       NaN   \n",
       "3     Action, Mystery & thriller          English    Donald Lewis       NaN   \n",
       "4  Fantasy, Adventure, Animation          English    Howard Simms       NaN   \n",
       "\n",
       "  distributor soundType  \n",
       "0         NaN       NaN  \n",
       "1         NaN       NaN  \n",
       "2         NaN       NaN  \n",
       "3         NaN       NaN  \n",
       "4         NaN       NaN  "
      ]
     },
     "execution_count": 8,
     "metadata": {},
     "output_type": "execute_result"
    }
   ],
   "source": [
    "movies_dataset.head()"
   ]
  },
  {
   "cell_type": "code",
   "execution_count": 9,
   "id": "86e83894",
   "metadata": {
    "execution": {
     "iopub.execute_input": "2023-08-04T13:51:14.957346Z",
     "iopub.status.busy": "2023-08-04T13:51:14.956109Z",
     "iopub.status.idle": "2023-08-04T13:51:15.324486Z",
     "shell.execute_reply": "2023-08-04T13:51:15.323157Z"
    },
    "papermill": {
     "duration": 0.394882,
     "end_time": "2023-08-04T13:51:15.327146",
     "exception": false,
     "start_time": "2023-08-04T13:51:14.932264",
     "status": "completed"
    },
    "tags": []
   },
   "outputs": [
    {
     "data": {
      "text/html": [
       "<div>\n",
       "<style scoped>\n",
       "    .dataframe tbody tr th:only-of-type {\n",
       "        vertical-align: middle;\n",
       "    }\n",
       "\n",
       "    .dataframe tbody tr th {\n",
       "        vertical-align: top;\n",
       "    }\n",
       "\n",
       "    .dataframe thead th {\n",
       "        text-align: right;\n",
       "    }\n",
       "</style>\n",
       "<table border=\"1\" class=\"dataframe\">\n",
       "  <thead>\n",
       "    <tr style=\"text-align: right;\">\n",
       "      <th></th>\n",
       "      <th>movieid</th>\n",
       "      <th>reviewerName</th>\n",
       "      <th>isFrequentReviewer</th>\n",
       "      <th>reviewText</th>\n",
       "      <th>sentiment</th>\n",
       "      <th>title</th>\n",
       "      <th>audienceScore</th>\n",
       "      <th>rating</th>\n",
       "      <th>ratingContents</th>\n",
       "      <th>releaseDateTheaters</th>\n",
       "      <th>releaseDateStreaming</th>\n",
       "      <th>runtimeMinutes</th>\n",
       "      <th>genre</th>\n",
       "      <th>originalLanguage</th>\n",
       "      <th>director</th>\n",
       "      <th>boxOffice</th>\n",
       "      <th>distributor</th>\n",
       "      <th>soundType</th>\n",
       "    </tr>\n",
       "  </thead>\n",
       "  <tbody>\n",
       "    <tr>\n",
       "      <th>0</th>\n",
       "      <td>marvelous_pirate</td>\n",
       "      <td>Benjamin Henry</td>\n",
       "      <td>False</td>\n",
       "      <td>Henry Selick’s first movie since 2009’s Corali...</td>\n",
       "      <td>POSITIVE</td>\n",
       "      <td>Marvelous Pirate</td>\n",
       "      <td>65.0</td>\n",
       "      <td>PG-13</td>\n",
       "      <td>['Violence', 'Brief Strong Language', 'Substan...</td>\n",
       "      <td>2022-10-21</td>\n",
       "      <td>2022-10-28</td>\n",
       "      <td>105.0</td>\n",
       "      <td>Comedy, Animation, Adventure, Fantasy</td>\n",
       "      <td>English</td>\n",
       "      <td>Bennie Basso</td>\n",
       "      <td>NaN</td>\n",
       "      <td>Netflix</td>\n",
       "      <td>NaN</td>\n",
       "    </tr>\n",
       "    <tr>\n",
       "      <th>1</th>\n",
       "      <td>tony_montana_frodo_baggins_v_rocky_balboa</td>\n",
       "      <td>Felicia Lopez</td>\n",
       "      <td>False</td>\n",
       "      <td>With a cast that reads like the Vogue Oscar pa...</td>\n",
       "      <td>NEGATIVE</td>\n",
       "      <td>Tony Montana Frodo Baggins V Rocky Balboa</td>\n",
       "      <td>NaN</td>\n",
       "      <td>NaN</td>\n",
       "      <td>NaN</td>\n",
       "      <td>NaN</td>\n",
       "      <td>2013-01-08</td>\n",
       "      <td>91.0</td>\n",
       "      <td>Action</td>\n",
       "      <td>English</td>\n",
       "      <td>Alma White</td>\n",
       "      <td>NaN</td>\n",
       "      <td>NaN</td>\n",
       "      <td>NaN</td>\n",
       "    </tr>\n",
       "    <tr>\n",
       "      <th>2</th>\n",
       "      <td>darth_vader_katniss_everdeen_sorcerer_donnie_d...</td>\n",
       "      <td>Mr. Charles Burgess</td>\n",
       "      <td>True</td>\n",
       "      <td>Creed II does not give us anything but another...</td>\n",
       "      <td>POSITIVE</td>\n",
       "      <td>Darth Vader Katniss Everdeen Sorcerer Donnie D...</td>\n",
       "      <td>80.0</td>\n",
       "      <td>PG-13</td>\n",
       "      <td>['Language', 'A Scene of Sensuality', 'Sports ...</td>\n",
       "      <td>2018-11-21</td>\n",
       "      <td>2019-02-12</td>\n",
       "      <td>130.0</td>\n",
       "      <td>Drama</td>\n",
       "      <td>English</td>\n",
       "      <td>Bobby Oleary</td>\n",
       "      <td>$115.7M</td>\n",
       "      <td>Warner Bros. Pictures, Metro-Goldwyn-Mayer</td>\n",
       "      <td>NaN</td>\n",
       "    </tr>\n",
       "    <tr>\n",
       "      <th>3</th>\n",
       "      <td>lara_croft_glimmer</td>\n",
       "      <td>Ryan Barrett</td>\n",
       "      <td>False</td>\n",
       "      <td>I know what you're thinking, but this is no Li...</td>\n",
       "      <td>POSITIVE</td>\n",
       "      <td>Lara Croft Glimmer</td>\n",
       "      <td>NaN</td>\n",
       "      <td>NaN</td>\n",
       "      <td>NaN</td>\n",
       "      <td>NaN</td>\n",
       "      <td>2020-06-02</td>\n",
       "      <td>15.0</td>\n",
       "      <td>Drama</td>\n",
       "      <td>Spanish</td>\n",
       "      <td>Eric Hutcherson</td>\n",
       "      <td>NaN</td>\n",
       "      <td>NaN</td>\n",
       "      <td>NaN</td>\n",
       "    </tr>\n",
       "    <tr>\n",
       "      <th>4</th>\n",
       "      <td>jason_bourne_surreal_the_terminator_indiana_jones</td>\n",
       "      <td>Alexander Glover</td>\n",
       "      <td>False</td>\n",
       "      <td>Director Fernando Meirelles tells the story wi...</td>\n",
       "      <td>POSITIVE</td>\n",
       "      <td>Jason Bourne Surreal The Terminator Indiana Jones</td>\n",
       "      <td>97.0</td>\n",
       "      <td>R</td>\n",
       "      <td>['Language', 'Drug Content', 'Sexuality', 'Str...</td>\n",
       "      <td>2003-01-17</td>\n",
       "      <td>2004-06-08</td>\n",
       "      <td>131.0</td>\n",
       "      <td>Crime, Drama</td>\n",
       "      <td>Portuguese (Brazil)</td>\n",
       "      <td>John Trent</td>\n",
       "      <td>$7.6M</td>\n",
       "      <td>Miramax Films</td>\n",
       "      <td>Surround, Dolby SR, Dolby Digital, Dolby A, Do...</td>\n",
       "    </tr>\n",
       "  </tbody>\n",
       "</table>\n",
       "</div>"
      ],
      "text/plain": [
       "                                             movieid         reviewerName  \\\n",
       "0                                   marvelous_pirate       Benjamin Henry   \n",
       "1          tony_montana_frodo_baggins_v_rocky_balboa        Felicia Lopez   \n",
       "2  darth_vader_katniss_everdeen_sorcerer_donnie_d...  Mr. Charles Burgess   \n",
       "3                                 lara_croft_glimmer         Ryan Barrett   \n",
       "4  jason_bourne_surreal_the_terminator_indiana_jones     Alexander Glover   \n",
       "\n",
       "   isFrequentReviewer                                         reviewText  \\\n",
       "0               False  Henry Selick’s first movie since 2009’s Corali...   \n",
       "1               False  With a cast that reads like the Vogue Oscar pa...   \n",
       "2                True  Creed II does not give us anything but another...   \n",
       "3               False  I know what you're thinking, but this is no Li...   \n",
       "4               False  Director Fernando Meirelles tells the story wi...   \n",
       "\n",
       "  sentiment                                              title  audienceScore  \\\n",
       "0  POSITIVE                                   Marvelous Pirate           65.0   \n",
       "1  NEGATIVE          Tony Montana Frodo Baggins V Rocky Balboa            NaN   \n",
       "2  POSITIVE  Darth Vader Katniss Everdeen Sorcerer Donnie D...           80.0   \n",
       "3  POSITIVE                                 Lara Croft Glimmer            NaN   \n",
       "4  POSITIVE  Jason Bourne Surreal The Terminator Indiana Jones           97.0   \n",
       "\n",
       "  rating                                     ratingContents  \\\n",
       "0  PG-13  ['Violence', 'Brief Strong Language', 'Substan...   \n",
       "1    NaN                                                NaN   \n",
       "2  PG-13  ['Language', 'A Scene of Sensuality', 'Sports ...   \n",
       "3    NaN                                                NaN   \n",
       "4      R  ['Language', 'Drug Content', 'Sexuality', 'Str...   \n",
       "\n",
       "  releaseDateTheaters releaseDateStreaming  runtimeMinutes  \\\n",
       "0          2022-10-21           2022-10-28           105.0   \n",
       "1                 NaN           2013-01-08            91.0   \n",
       "2          2018-11-21           2019-02-12           130.0   \n",
       "3                 NaN           2020-06-02            15.0   \n",
       "4          2003-01-17           2004-06-08           131.0   \n",
       "\n",
       "                                   genre     originalLanguage  \\\n",
       "0  Comedy, Animation, Adventure, Fantasy              English   \n",
       "1                                 Action              English   \n",
       "2                                  Drama              English   \n",
       "3                                  Drama              Spanish   \n",
       "4                           Crime, Drama  Portuguese (Brazil)   \n",
       "\n",
       "          director boxOffice                                 distributor  \\\n",
       "0     Bennie Basso       NaN                                     Netflix   \n",
       "1       Alma White       NaN                                         NaN   \n",
       "2     Bobby Oleary   $115.7M  Warner Bros. Pictures, Metro-Goldwyn-Mayer   \n",
       "3  Eric Hutcherson       NaN                                         NaN   \n",
       "4       John Trent     $7.6M                               Miramax Films   \n",
       "\n",
       "                                           soundType  \n",
       "0                                                NaN  \n",
       "1                                                NaN  \n",
       "2                                                NaN  \n",
       "3                                                NaN  \n",
       "4  Surround, Dolby SR, Dolby Digital, Dolby A, Do...  "
      ]
     },
     "execution_count": 9,
     "metadata": {},
     "output_type": "execute_result"
    }
   ],
   "source": [
    "movies_dataset = movies_dataset.drop_duplicates(subset=\"movieid\")\n",
    "merged_data = pd.merge(train, movies_dataset, how=\"left\", on=\"movieid\")\n",
    "merged_data.head()"
   ]
  },
  {
   "cell_type": "code",
   "execution_count": 10,
   "id": "fb844546",
   "metadata": {
    "execution": {
     "iopub.execute_input": "2023-08-04T13:51:15.376952Z",
     "iopub.status.busy": "2023-08-04T13:51:15.376531Z",
     "iopub.status.idle": "2023-08-04T13:51:15.383774Z",
     "shell.execute_reply": "2023-08-04T13:51:15.382556Z"
    },
    "papermill": {
     "duration": 0.034567,
     "end_time": "2023-08-04T13:51:15.386170",
     "exception": false,
     "start_time": "2023-08-04T13:51:15.351603",
     "status": "completed"
    },
    "tags": []
   },
   "outputs": [
    {
     "data": {
      "text/plain": [
       "(162758, 18)"
      ]
     },
     "execution_count": 10,
     "metadata": {},
     "output_type": "execute_result"
    }
   ],
   "source": [
    "merged_data.shape"
   ]
  },
  {
   "cell_type": "code",
   "execution_count": 11,
   "id": "36b8c352",
   "metadata": {
    "execution": {
     "iopub.execute_input": "2023-08-04T13:51:15.435260Z",
     "iopub.status.busy": "2023-08-04T13:51:15.434793Z",
     "iopub.status.idle": "2023-08-04T13:51:15.691086Z",
     "shell.execute_reply": "2023-08-04T13:51:15.689833Z"
    },
    "papermill": {
     "duration": 0.283663,
     "end_time": "2023-08-04T13:51:15.693840",
     "exception": false,
     "start_time": "2023-08-04T13:51:15.410177",
     "status": "completed"
    },
    "tags": []
   },
   "outputs": [
    {
     "data": {
      "text/plain": [
       "movieid                      0\n",
       "title                        0\n",
       "audienceScore            62690\n",
       "rating                  114626\n",
       "ratingContents          114626\n",
       "releaseDateTheaters     100014\n",
       "releaseDateStreaming     57131\n",
       "runtimeMinutes           12494\n",
       "genre                    10003\n",
       "originalLanguage         12384\n",
       "director                     0\n",
       "boxOffice               113876\n",
       "distributor             106855\n",
       "soundType               112938\n",
       "dtype: int64"
      ]
     },
     "execution_count": 11,
     "metadata": {},
     "output_type": "execute_result"
    }
   ],
   "source": [
    "details = pd.DataFrame(movies_dataset, columns =['movieid', 'title','audienceScore','rating','ratingContents',\n",
    "                                          'releaseDateTheaters','releaseDateStreaming','runtimeMinutes',\n",
    "                                          'genre','originalLanguage','director','boxOffice','distributor',\n",
    "                                          'soundType'])\n",
    "details.isnull().sum()  "
   ]
  },
  {
   "cell_type": "code",
   "execution_count": 12,
   "id": "5d4f9f54",
   "metadata": {
    "execution": {
     "iopub.execute_input": "2023-08-04T13:51:15.742330Z",
     "iopub.status.busy": "2023-08-04T13:51:15.741960Z",
     "iopub.status.idle": "2023-08-04T13:51:16.172337Z",
     "shell.execute_reply": "2023-08-04T13:51:16.171044Z"
    },
    "papermill": {
     "duration": 0.457878,
     "end_time": "2023-08-04T13:51:16.174943",
     "exception": false,
     "start_time": "2023-08-04T13:51:15.717065",
     "status": "completed"
    },
    "tags": []
   },
   "outputs": [
    {
     "data": {
      "text/plain": [
       "movieid                     0\n",
       "reviewerName                0\n",
       "isFrequentReviewer          0\n",
       "reviewText               6447\n",
       "sentiment                   0\n",
       "title                       0\n",
       "audienceScore           13248\n",
       "rating                  63724\n",
       "ratingContents          63724\n",
       "releaseDateTheaters     35834\n",
       "releaseDateStreaming    16185\n",
       "runtimeMinutes           3376\n",
       "genre                    2438\n",
       "originalLanguage         3290\n",
       "director                    0\n",
       "boxOffice               52776\n",
       "distributor             40663\n",
       "soundType               85367\n",
       "dtype: int64"
      ]
     },
     "execution_count": 12,
     "metadata": {},
     "output_type": "execute_result"
    }
   ],
   "source": [
    "# Count null values in movies data\n",
    "\n",
    "details = pd.DataFrame(merged_data, columns =['movieid', 'reviewerName','isFrequentReviewer','reviewText','sentiment', 'title','audienceScore','rating','ratingContents',\n",
    "                                          'releaseDateTheaters','releaseDateStreaming','runtimeMinutes',\n",
    "                                          'genre','originalLanguage','director','boxOffice','distributor',\n",
    "                                          'soundType'])\n",
    "details.isnull().sum()  "
   ]
  },
  {
   "cell_type": "code",
   "execution_count": 13,
   "id": "39baf9a9",
   "metadata": {
    "execution": {
     "iopub.execute_input": "2023-08-04T13:51:16.226484Z",
     "iopub.status.busy": "2023-08-04T13:51:16.225562Z",
     "iopub.status.idle": "2023-08-04T13:51:16.475909Z",
     "shell.execute_reply": "2023-08-04T13:51:16.474714Z"
    },
    "papermill": {
     "duration": 0.279851,
     "end_time": "2023-08-04T13:51:16.478654",
     "exception": false,
     "start_time": "2023-08-04T13:51:16.198803",
     "status": "completed"
    },
    "tags": []
   },
   "outputs": [
    {
     "data": {
      "text/plain": [
       "movieid                      0\n",
       "title                        0\n",
       "audienceScore            62690\n",
       "rating                  114626\n",
       "ratingContents          114626\n",
       "releaseDateTheaters     100014\n",
       "releaseDateStreaming     57131\n",
       "runtimeMinutes           12494\n",
       "genre                    10003\n",
       "originalLanguage         12384\n",
       "director                     0\n",
       "boxOffice               113876\n",
       "distributor             106855\n",
       "soundType               112938\n",
       "dtype: int64"
      ]
     },
     "execution_count": 13,
     "metadata": {},
     "output_type": "execute_result"
    }
   ],
   "source": [
    "# Count null values in movies data\n",
    "\n",
    "details = pd.DataFrame(movies_dataset, columns =['movieid', 'title','audienceScore','rating','ratingContents',\n",
    "                                          'releaseDateTheaters','releaseDateStreaming','runtimeMinutes',\n",
    "                                          'genre','originalLanguage','director','boxOffice','distributor',\n",
    "                                          'soundType'])\n",
    "details.isnull().sum()  "
   ]
  },
  {
   "cell_type": "code",
   "execution_count": 14,
   "id": "b485368a",
   "metadata": {
    "execution": {
     "iopub.execute_input": "2023-08-04T13:51:16.527928Z",
     "iopub.status.busy": "2023-08-04T13:51:16.527523Z",
     "iopub.status.idle": "2023-08-04T13:51:16.976132Z",
     "shell.execute_reply": "2023-08-04T13:51:16.974594Z"
    },
    "papermill": {
     "duration": 0.476755,
     "end_time": "2023-08-04T13:51:16.978969",
     "exception": false,
     "start_time": "2023-08-04T13:51:16.502214",
     "status": "completed"
    },
    "tags": []
   },
   "outputs": [
    {
     "data": {
      "image/png": "[encoded data removed]",
      "text/plain": [
       "<Figure size 1000x700 with 1 Axes>"
      ]
     },
     "metadata": {},
     "output_type": "display_data"
    }
   ],
   "source": [
    "import matplotlib.pyplot as plt\n",
    "fig, axs = plt.subplots(1, 1,\n",
    "                        figsize =(10, 7),\n",
    "                        tight_layout = True)\n",
    "axs.hist(merged_data['audienceScore'], bins = 50)\n",
    "# Show plot\n",
    "plt.show()"
   ]
  },
  {
   "cell_type": "code",
   "execution_count": 15,
   "id": "8b000307",
   "metadata": {
    "execution": {
     "iopub.execute_input": "2023-08-04T13:51:17.033044Z",
     "iopub.status.busy": "2023-08-04T13:51:17.032576Z",
     "iopub.status.idle": "2023-08-04T13:51:17.245217Z",
     "shell.execute_reply": "2023-08-04T13:51:17.243726Z"
    },
    "papermill": {
     "duration": 0.242675,
     "end_time": "2023-08-04T13:51:17.248320",
     "exception": false,
     "start_time": "2023-08-04T13:51:17.005645",
     "status": "completed"
    },
    "tags": []
   },
   "outputs": [
    {
     "data": {
      "image/png": "[encoded data removed]",
      "text/plain": [
       "<Figure size 1000x700 with 1 Axes>"
      ]
     },
     "metadata": {},
     "output_type": "display_data"
    }
   ],
   "source": [
    "data = merged_data['audienceScore'].dropna()\n",
    "fig = plt.figure(figsize =(10, 7))\n",
    " \n",
    "# Creating plot\n",
    "plt.boxplot(data)\n",
    " \n",
    "# show plot\n",
    "plt.show()"
   ]
  },
  {
   "cell_type": "code",
   "execution_count": 16,
   "id": "87bc7e0a",
   "metadata": {
    "execution": {
     "iopub.execute_input": "2023-08-04T13:51:17.299341Z",
     "iopub.status.busy": "2023-08-04T13:51:17.297852Z",
     "iopub.status.idle": "2023-08-04T13:51:17.304669Z",
     "shell.execute_reply": "2023-08-04T13:51:17.303365Z"
    },
    "papermill": {
     "duration": 0.035015,
     "end_time": "2023-08-04T13:51:17.307343",
     "exception": false,
     "start_time": "2023-08-04T13:51:17.272328",
     "status": "completed"
    },
    "tags": []
   },
   "outputs": [],
   "source": [
    "# Q1 = merged_data['audienceScore'].quantile(0.25)\n",
    "# Q3 = merged_data['audienceScore'].quantile(0.75)\n",
    "# IQR = Q3 - Q1\n",
    "# lower = Q1 - 1.5*IQR\n",
    "# upper = Q3 + 1.5*IQR\n",
    "# upper_array = np.where(merged_data['audienceScore']>=upper)[0]\n",
    "# lower_array = np.where(merged_data['audienceScore']<=lower)[0]\n",
    " \n",
    "# # Removing the outliers\n",
    "# merged_data.drop(index=upper_array, inplace=True)\n",
    "# merged_data.drop(index=lower_array, inplace=True)"
   ]
  },
  {
   "cell_type": "code",
   "execution_count": 17,
   "id": "6b045b58",
   "metadata": {
    "execution": {
     "iopub.execute_input": "2023-08-04T13:51:17.358416Z",
     "iopub.status.busy": "2023-08-04T13:51:17.358008Z",
     "iopub.status.idle": "2023-08-04T13:51:17.363257Z",
     "shell.execute_reply": "2023-08-04T13:51:17.362279Z"
    },
    "papermill": {
     "duration": 0.033641,
     "end_time": "2023-08-04T13:51:17.365373",
     "exception": false,
     "start_time": "2023-08-04T13:51:17.331732",
     "status": "completed"
    },
    "tags": []
   },
   "outputs": [],
   "source": [
    "# import matplotlib.pyplot as plt\n",
    "# data = merged_data['audienceScore'].dropna()\n",
    "# fig = plt.figure(figsize =(10, 7))\n",
    " \n",
    "# # Creating plot\n",
    "# plt.boxplot(data)\n",
    " \n",
    "# # show plot\n",
    "# plt.show()"
   ]
  },
  {
   "cell_type": "code",
   "execution_count": 18,
   "id": "304e044c",
   "metadata": {
    "execution": {
     "iopub.execute_input": "2023-08-04T13:51:17.417988Z",
     "iopub.status.busy": "2023-08-04T13:51:17.417142Z",
     "iopub.status.idle": "2023-08-04T13:51:17.661837Z",
     "shell.execute_reply": "2023-08-04T13:51:17.660874Z"
    },
    "papermill": {
     "duration": 0.27382,
     "end_time": "2023-08-04T13:51:17.665199",
     "exception": false,
     "start_time": "2023-08-04T13:51:17.391379",
     "status": "completed"
    },
    "tags": []
   },
   "outputs": [
    {
     "data": {
      "text/plain": [
       "(156311, 18)"
      ]
     },
     "execution_count": 18,
     "metadata": {},
     "output_type": "execute_result"
    }
   ],
   "source": [
    "# Drop null values\n",
    "\n",
    "train_df = merged_data.dropna(axis=0, subset=['reviewText'])\n",
    "train_df.shape"
   ]
  },
  {
   "cell_type": "code",
   "execution_count": 19,
   "id": "aabb6bee",
   "metadata": {
    "execution": {
     "iopub.execute_input": "2023-08-04T13:51:17.726866Z",
     "iopub.status.busy": "2023-08-04T13:51:17.725939Z",
     "iopub.status.idle": "2023-08-04T13:51:18.165817Z",
     "shell.execute_reply": "2023-08-04T13:51:18.164708Z"
    },
    "papermill": {
     "duration": 0.472308,
     "end_time": "2023-08-04T13:51:18.170760",
     "exception": false,
     "start_time": "2023-08-04T13:51:17.698452",
     "status": "completed"
    },
    "tags": []
   },
   "outputs": [
    {
     "data": {
      "image/png": "[encoded data removed]",
      "text/plain": [
       "<Figure size 1000x500 with 1 Axes>"
      ]
     },
     "metadata": {},
     "output_type": "display_data"
    }
   ],
   "source": [
    "# Pie Chart\n",
    "\n",
    "def label_function(val):\n",
    "    return f'{val / 100 * len(train_df):.0f}\\n{val:.0f}%'\n",
    "import matplotlib.pyplot as plt\n",
    "explode = (0.05,0.05)\n",
    "fig,ax2 = plt.subplots(ncols=1, figsize=(10, 5))\n",
    "train_df.groupby('sentiment').size().plot(kind='pie', autopct=label_function, textprops={'fontsize': 20},\n",
    "                                 colors=['violet', 'lime'], ax=ax2,explode=explode)\n",
    "plt.show()"
   ]
  },
  {
   "cell_type": "code",
   "execution_count": 20,
   "id": "651c7bf7",
   "metadata": {
    "execution": {
     "iopub.execute_input": "2023-08-04T13:51:18.242427Z",
     "iopub.status.busy": "2023-08-04T13:51:18.241951Z",
     "iopub.status.idle": "2023-08-04T13:51:18.645815Z",
     "shell.execute_reply": "2023-08-04T13:51:18.644661Z"
    },
    "papermill": {
     "duration": 0.436562,
     "end_time": "2023-08-04T13:51:18.648509",
     "exception": false,
     "start_time": "2023-08-04T13:51:18.211947",
     "status": "completed"
    },
    "tags": []
   },
   "outputs": [
    {
     "data": {
      "text/plain": [
       "<Axes: xlabel='sentiment'>"
      ]
     },
     "execution_count": 20,
     "metadata": {},
     "output_type": "execute_result"
    },
    {
     "data": {
      "image/png": "[encoded data removed]",
      "text/plain": [
       "<Figure size 640x480 with 1 Axes>"
      ]
     },
     "metadata": {},
     "output_type": "display_data"
    }
   ],
   "source": [
    "# Bar Chart\n",
    "\n",
    "barch = pd.get_dummies(train_df,columns=['isFrequentReviewer'])\n",
    "barch.groupby(['sentiment', 'isFrequentReviewer_True']).size().unstack().plot(kind='bar', stacked=True)"
   ]
  },
  {
   "cell_type": "code",
   "execution_count": 21,
   "id": "fbfe5cfd",
   "metadata": {
    "execution": {
     "iopub.execute_input": "2023-08-04T13:51:18.701322Z",
     "iopub.status.busy": "2023-08-04T13:51:18.700482Z",
     "iopub.status.idle": "2023-08-04T13:51:19.045212Z",
     "shell.execute_reply": "2023-08-04T13:51:19.043406Z"
    },
    "papermill": {
     "duration": 0.374335,
     "end_time": "2023-08-04T13:51:19.048340",
     "exception": false,
     "start_time": "2023-08-04T13:51:18.674005",
     "status": "completed"
    },
    "tags": []
   },
   "outputs": [
    {
     "data": {
      "text/html": [
       "<div>\n",
       "<style scoped>\n",
       "    .dataframe tbody tr th:only-of-type {\n",
       "        vertical-align: middle;\n",
       "    }\n",
       "\n",
       "    .dataframe tbody tr th {\n",
       "        vertical-align: top;\n",
       "    }\n",
       "\n",
       "    .dataframe thead th {\n",
       "        text-align: right;\n",
       "    }\n",
       "</style>\n",
       "<table border=\"1\" class=\"dataframe\">\n",
       "  <thead>\n",
       "    <tr style=\"text-align: right;\">\n",
       "      <th></th>\n",
       "      <th>isFrequentReviewer</th>\n",
       "      <th>sentiment</th>\n",
       "      <th>audienceScore</th>\n",
       "      <th>runtimeMinutes</th>\n",
       "    </tr>\n",
       "  </thead>\n",
       "  <tbody>\n",
       "    <tr>\n",
       "      <th>isFrequentReviewer</th>\n",
       "      <td>1.000000</td>\n",
       "      <td>-0.052721</td>\n",
       "      <td>-0.027958</td>\n",
       "      <td>-0.033607</td>\n",
       "    </tr>\n",
       "    <tr>\n",
       "      <th>sentiment</th>\n",
       "      <td>-0.052721</td>\n",
       "      <td>1.000000</td>\n",
       "      <td>0.310568</td>\n",
       "      <td>0.045663</td>\n",
       "    </tr>\n",
       "    <tr>\n",
       "      <th>audienceScore</th>\n",
       "      <td>-0.027958</td>\n",
       "      <td>0.310568</td>\n",
       "      <td>1.000000</td>\n",
       "      <td>0.260965</td>\n",
       "    </tr>\n",
       "    <tr>\n",
       "      <th>runtimeMinutes</th>\n",
       "      <td>-0.033607</td>\n",
       "      <td>0.045663</td>\n",
       "      <td>0.260965</td>\n",
       "      <td>1.000000</td>\n",
       "    </tr>\n",
       "  </tbody>\n",
       "</table>\n",
       "</div>"
      ],
      "text/plain": [
       "                    isFrequentReviewer  sentiment  audienceScore  \\\n",
       "isFrequentReviewer            1.000000  -0.052721      -0.027958   \n",
       "sentiment                    -0.052721   1.000000       0.310568   \n",
       "audienceScore                -0.027958   0.310568       1.000000   \n",
       "runtimeMinutes               -0.033607   0.045663       0.260965   \n",
       "\n",
       "                    runtimeMinutes  \n",
       "isFrequentReviewer       -0.033607  \n",
       "sentiment                 0.045663  \n",
       "audienceScore             0.260965  \n",
       "runtimeMinutes            1.000000  "
      ]
     },
     "execution_count": 21,
     "metadata": {},
     "output_type": "execute_result"
    }
   ],
   "source": [
    "# Correlation between categorical variables and numeric variables\n",
    "\n",
    "df=train_df.drop(['movieid','reviewerName','reviewText'],axis=1)\n",
    "df = df.replace('POSITIVE',1)\n",
    "df = df.replace('NEGATIVE',0)\n",
    "df.corr(numeric_only = True)"
   ]
  },
  {
   "cell_type": "markdown",
   "id": "571506f2",
   "metadata": {
    "papermill": {
     "duration": 0.02484,
     "end_time": "2023-08-04T13:51:19.100087",
     "exception": false,
     "start_time": "2023-08-04T13:51:19.075247",
     "status": "completed"
    },
    "tags": []
   },
   "source": [
    "isFrequentReviewer and sentiment are weakly negative correlated\n",
    "\n",
    "audienceScore and runtimeMinutes are weakly positive correlated\n",
    "\n",
    "audienceScore and sentiment are weakly positive correlated"
   ]
  },
  {
   "cell_type": "code",
   "execution_count": 22,
   "id": "01eb7d0d",
   "metadata": {
    "execution": {
     "iopub.execute_input": "2023-08-04T13:51:19.154686Z",
     "iopub.status.busy": "2023-08-04T13:51:19.154210Z",
     "iopub.status.idle": "2023-08-04T13:51:19.168224Z",
     "shell.execute_reply": "2023-08-04T13:51:19.166749Z"
    },
    "papermill": {
     "duration": 0.04585,
     "end_time": "2023-08-04T13:51:19.171115",
     "exception": false,
     "start_time": "2023-08-04T13:51:19.125265",
     "status": "completed"
    },
    "tags": []
   },
   "outputs": [],
   "source": [
    "x=train_df[['isFrequentReviewer','reviewText','audienceScore']]\n",
    "y=train_df['sentiment'].copy()"
   ]
  },
  {
   "cell_type": "code",
   "execution_count": 23,
   "id": "464df65e",
   "metadata": {
    "execution": {
     "iopub.execute_input": "2023-08-04T13:51:19.226187Z",
     "iopub.status.busy": "2023-08-04T13:51:19.225324Z",
     "iopub.status.idle": "2023-08-04T13:51:19.236849Z",
     "shell.execute_reply": "2023-08-04T13:51:19.235237Z"
    },
    "papermill": {
     "duration": 0.04237,
     "end_time": "2023-08-04T13:51:19.239841",
     "exception": false,
     "start_time": "2023-08-04T13:51:19.197471",
     "status": "completed"
    },
    "tags": []
   },
   "outputs": [
    {
     "data": {
      "text/html": [
       "<div>\n",
       "<style scoped>\n",
       "    .dataframe tbody tr th:only-of-type {\n",
       "        vertical-align: middle;\n",
       "    }\n",
       "\n",
       "    .dataframe tbody tr th {\n",
       "        vertical-align: top;\n",
       "    }\n",
       "\n",
       "    .dataframe thead th {\n",
       "        text-align: right;\n",
       "    }\n",
       "</style>\n",
       "<table border=\"1\" class=\"dataframe\">\n",
       "  <thead>\n",
       "    <tr style=\"text-align: right;\">\n",
       "      <th></th>\n",
       "      <th>isFrequentReviewer</th>\n",
       "      <th>reviewText</th>\n",
       "      <th>audienceScore</th>\n",
       "    </tr>\n",
       "  </thead>\n",
       "  <tbody>\n",
       "    <tr>\n",
       "      <th>0</th>\n",
       "      <td>False</td>\n",
       "      <td>Henry Selick’s first movie since 2009’s Corali...</td>\n",
       "      <td>65.0</td>\n",
       "    </tr>\n",
       "    <tr>\n",
       "      <th>1</th>\n",
       "      <td>False</td>\n",
       "      <td>With a cast that reads like the Vogue Oscar pa...</td>\n",
       "      <td>NaN</td>\n",
       "    </tr>\n",
       "    <tr>\n",
       "      <th>2</th>\n",
       "      <td>True</td>\n",
       "      <td>Creed II does not give us anything but another...</td>\n",
       "      <td>80.0</td>\n",
       "    </tr>\n",
       "    <tr>\n",
       "      <th>3</th>\n",
       "      <td>False</td>\n",
       "      <td>I know what you're thinking, but this is no Li...</td>\n",
       "      <td>NaN</td>\n",
       "    </tr>\n",
       "    <tr>\n",
       "      <th>4</th>\n",
       "      <td>False</td>\n",
       "      <td>Director Fernando Meirelles tells the story wi...</td>\n",
       "      <td>97.0</td>\n",
       "    </tr>\n",
       "  </tbody>\n",
       "</table>\n",
       "</div>"
      ],
      "text/plain": [
       "   isFrequentReviewer                                         reviewText  \\\n",
       "0               False  Henry Selick’s first movie since 2009’s Corali...   \n",
       "1               False  With a cast that reads like the Vogue Oscar pa...   \n",
       "2                True  Creed II does not give us anything but another...   \n",
       "3               False  I know what you're thinking, but this is no Li...   \n",
       "4               False  Director Fernando Meirelles tells the story wi...   \n",
       "\n",
       "   audienceScore  \n",
       "0           65.0  \n",
       "1            NaN  \n",
       "2           80.0  \n",
       "3            NaN  \n",
       "4           97.0  "
      ]
     },
     "execution_count": 23,
     "metadata": {},
     "output_type": "execute_result"
    }
   ],
   "source": [
    "x.head()"
   ]
  },
  {
   "cell_type": "code",
   "execution_count": 24,
   "id": "d1c24d2a",
   "metadata": {
    "execution": {
     "iopub.execute_input": "2023-08-04T13:51:19.296543Z",
     "iopub.status.busy": "2023-08-04T13:51:19.296158Z",
     "iopub.status.idle": "2023-08-04T13:51:19.304609Z",
     "shell.execute_reply": "2023-08-04T13:51:19.303172Z"
    },
    "papermill": {
     "duration": 0.038911,
     "end_time": "2023-08-04T13:51:19.307100",
     "exception": false,
     "start_time": "2023-08-04T13:51:19.268189",
     "status": "completed"
    },
    "tags": []
   },
   "outputs": [
    {
     "data": {
      "text/plain": [
       "0    POSITIVE\n",
       "1    NEGATIVE\n",
       "2    POSITIVE\n",
       "3    POSITIVE\n",
       "4    POSITIVE\n",
       "Name: sentiment, dtype: object"
      ]
     },
     "execution_count": 24,
     "metadata": {},
     "output_type": "execute_result"
    }
   ],
   "source": [
    "y.head()"
   ]
  },
  {
   "cell_type": "code",
   "execution_count": 25,
   "id": "e28faf74",
   "metadata": {
    "execution": {
     "iopub.execute_input": "2023-08-04T13:51:19.363322Z",
     "iopub.status.busy": "2023-08-04T13:51:19.361722Z",
     "iopub.status.idle": "2023-08-04T13:51:29.432651Z",
     "shell.execute_reply": "2023-08-04T13:51:29.431251Z"
    },
    "papermill": {
     "duration": 10.102031,
     "end_time": "2023-08-04T13:51:29.435576",
     "exception": false,
     "start_time": "2023-08-04T13:51:19.333545",
     "status": "completed"
    },
    "tags": []
   },
   "outputs": [],
   "source": [
    "# Encoding categorical features and feature engineering\n",
    "\n",
    "from sklearn.pipeline import Pipeline\n",
    "from sklearn.compose import ColumnTransformer\n",
    "from sklearn.preprocessing import OneHotEncoder\n",
    "from sklearn.impute import SimpleImputer\n",
    "from sklearn.feature_extraction.text import TfidfVectorizer\n",
    "\n",
    "processor = ColumnTransformer([\n",
    "    ('onehot', OneHotEncoder(dtype=int), [0]),\n",
    "    ('tfidf', TfidfVectorizer(), 1),\n",
    "    ('impute',SimpleImputer(),[2])\n",
    "])\n",
    "\n",
    "processor = processor.fit(x)\n",
    "x_piped = processor.transform(x)"
   ]
  },
  {
   "cell_type": "code",
   "execution_count": 26,
   "id": "3c4f0a4b",
   "metadata": {
    "execution": {
     "iopub.execute_input": "2023-08-04T13:51:29.493542Z",
     "iopub.status.busy": "2023-08-04T13:51:29.493157Z",
     "iopub.status.idle": "2023-08-04T13:51:29.500579Z",
     "shell.execute_reply": "2023-08-04T13:51:29.499193Z"
    },
    "papermill": {
     "duration": 0.037798,
     "end_time": "2023-08-04T13:51:29.503057",
     "exception": false,
     "start_time": "2023-08-04T13:51:29.465259",
     "status": "completed"
    },
    "tags": []
   },
   "outputs": [
    {
     "data": {
      "text/plain": [
       "(156311, 65223)"
      ]
     },
     "execution_count": 26,
     "metadata": {},
     "output_type": "execute_result"
    }
   ],
   "source": [
    "x_piped.shape"
   ]
  },
  {
   "cell_type": "code",
   "execution_count": 27,
   "id": "31c6bdab",
   "metadata": {
    "execution": {
     "iopub.execute_input": "2023-08-04T13:51:29.560376Z",
     "iopub.status.busy": "2023-08-04T13:51:29.559571Z",
     "iopub.status.idle": "2023-08-04T13:51:29.563597Z",
     "shell.execute_reply": "2023-08-04T13:51:29.562728Z"
    },
    "papermill": {
     "duration": 0.034884,
     "end_time": "2023-08-04T13:51:29.565922",
     "exception": false,
     "start_time": "2023-08-04T13:51:29.531038",
     "status": "completed"
    },
    "tags": []
   },
   "outputs": [],
   "source": [
    "# from imblearn.over_sampling import SMOTE\n",
    "\n",
    "# oversample = SMOTE()\n",
    "# X_sm, y_sm = oversample.fit_resample(x_piped, y)"
   ]
  },
  {
   "cell_type": "code",
   "execution_count": 28,
   "id": "2d6e7471",
   "metadata": {
    "execution": {
     "iopub.execute_input": "2023-08-04T13:51:29.621108Z",
     "iopub.status.busy": "2023-08-04T13:51:29.620151Z",
     "iopub.status.idle": "2023-08-04T13:51:29.625715Z",
     "shell.execute_reply": "2023-08-04T13:51:29.624560Z"
    },
    "papermill": {
     "duration": 0.035068,
     "end_time": "2023-08-04T13:51:29.628065",
     "exception": false,
     "start_time": "2023-08-04T13:51:29.592997",
     "status": "completed"
    },
    "tags": []
   },
   "outputs": [],
   "source": [
    "# print(X_sm.shape[0] - x_piped.shape[0], 'New random points generated with SMOTE')"
   ]
  },
  {
   "cell_type": "markdown",
   "id": "d5ecc50b",
   "metadata": {
    "papermill": {
     "duration": 0.025532,
     "end_time": "2023-08-04T13:51:29.680185",
     "exception": false,
     "start_time": "2023-08-04T13:51:29.654653",
     "status": "completed"
    },
    "tags": []
   },
   "source": [
    "# Baseline Model"
   ]
  },
  {
   "cell_type": "code",
   "execution_count": 29,
   "id": "0c692999",
   "metadata": {
    "execution": {
     "iopub.execute_input": "2023-08-04T13:51:29.736012Z",
     "iopub.status.busy": "2023-08-04T13:51:29.734765Z",
     "iopub.status.idle": "2023-08-04T13:51:44.244008Z",
     "shell.execute_reply": "2023-08-04T13:51:44.242314Z"
    },
    "papermill": {
     "duration": 14.542112,
     "end_time": "2023-08-04T13:51:44.248733",
     "exception": false,
     "start_time": "2023-08-04T13:51:29.706621",
     "status": "completed"
    },
    "tags": []
   },
   "outputs": [
    {
     "name": "stderr",
     "output_type": "stream",
     "text": [
      "/opt/conda/lib/python3.10/site-packages/sklearn/linear_model/_logistic.py:458: ConvergenceWarning: lbfgs failed to converge (status=1):\n",
      "STOP: TOTAL NO. of ITERATIONS REACHED LIMIT.\n",
      "\n",
      "Increase the number of iterations (max_iter) or scale the data as shown in:\n",
      "    https://scikit-learn.org/stable/modules/preprocessing.html\n",
      "Please also refer to the documentation for alternative solver options:\n",
      "    https://scikit-learn.org/stable/modules/linear_model.html#logistic-regression\n",
      "  n_iter_i = _check_optimize_result(\n"
     ]
    }
   ],
   "source": [
    "# Build a logreg model using pipelines\n",
    "\n",
    "from sklearn.linear_model import LogisticRegression\n",
    "lor = LogisticRegression(random_state=42)\n",
    "clf = Pipeline([('preprocessor', processor),\n",
    "                ('lor',lor)])\n",
    "model = clf.fit(x,y)"
   ]
  },
  {
   "cell_type": "code",
   "execution_count": 30,
   "id": "c3fc79c5",
   "metadata": {
    "execution": {
     "iopub.execute_input": "2023-08-04T13:51:44.351010Z",
     "iopub.status.busy": "2023-08-04T13:51:44.350472Z",
     "iopub.status.idle": "2023-08-04T13:51:48.840875Z",
     "shell.execute_reply": "2023-08-04T13:51:48.839730Z"
    },
    "papermill": {
     "duration": 4.535305,
     "end_time": "2023-08-04T13:51:48.843523",
     "exception": false,
     "start_time": "2023-08-04T13:51:44.308218",
     "status": "completed"
    },
    "tags": []
   },
   "outputs": [
    {
     "name": "stdout",
     "output_type": "stream",
     "text": [
      "Accuracy: 0.8074415748091945\n"
     ]
    }
   ],
   "source": [
    "print(\"Accuracy:\",model.score(x, y))"
   ]
  },
  {
   "cell_type": "markdown",
   "id": "a8132001",
   "metadata": {
    "papermill": {
     "duration": 0.027237,
     "end_time": "2023-08-04T13:51:48.897993",
     "exception": false,
     "start_time": "2023-08-04T13:51:48.870756",
     "status": "completed"
    },
    "tags": []
   },
   "source": [
    "Accuracy: 0.8074415748091945"
   ]
  },
  {
   "cell_type": "markdown",
   "id": "3b3dcc24",
   "metadata": {
    "papermill": {
     "duration": 0.027244,
     "end_time": "2023-08-04T13:51:48.951961",
     "exception": false,
     "start_time": "2023-08-04T13:51:48.924717",
     "status": "completed"
    },
    "tags": []
   },
   "source": [
    "# Hyper Parameter Tuning"
   ]
  },
  {
   "cell_type": "code",
   "execution_count": 31,
   "id": "c9bdc7e1",
   "metadata": {
    "execution": {
     "iopub.execute_input": "2023-08-04T13:51:49.017471Z",
     "iopub.status.busy": "2023-08-04T13:51:49.016289Z",
     "iopub.status.idle": "2023-08-04T13:51:49.056844Z",
     "shell.execute_reply": "2023-08-04T13:51:49.055900Z"
    },
    "papermill": {
     "duration": 0.078683,
     "end_time": "2023-08-04T13:51:49.059807",
     "exception": false,
     "start_time": "2023-08-04T13:51:48.981124",
     "status": "completed"
    },
    "tags": []
   },
   "outputs": [],
   "source": [
    "from sklearn.model_selection import train_test_split\n",
    "x_train,x_test,y_train,y_test = train_test_split(x,y,test_size=0.2,random_state=10)"
   ]
  },
  {
   "cell_type": "code",
   "execution_count": 32,
   "id": "6d34ee8e",
   "metadata": {
    "execution": {
     "iopub.execute_input": "2023-08-04T13:51:49.124881Z",
     "iopub.status.busy": "2023-08-04T13:51:49.124184Z",
     "iopub.status.idle": "2023-08-04T13:51:49.131649Z",
     "shell.execute_reply": "2023-08-04T13:51:49.130459Z"
    },
    "papermill": {
     "duration": 0.038517,
     "end_time": "2023-08-04T13:51:49.134374",
     "exception": false,
     "start_time": "2023-08-04T13:51:49.095857",
     "status": "completed"
    },
    "tags": []
   },
   "outputs": [],
   "source": [
    "from sklearn.model_selection import RandomizedSearchCV\n",
    "from sklearn.linear_model import LogisticRegression\n",
    "parameters = {\n",
    "    'lor__penalty' : ['l1','l2'], \n",
    "    'lor__C'       : np.logspace(-3,3,7),\n",
    "    'lor__solver'  : ['newton-cg', 'lbfgs', 'liblinear'],\n",
    "    'lor__max_iter': [50,1000,2000,5000]\n",
    "}\n",
    "\n",
    "rcv = RandomizedSearchCV(clf,\n",
    "                   param_distributions = parameters,\n",
    "                   scoring='accuracy',\n",
    "                   cv=5,n_iter=5)        \n",
    "# rcv.fit(x,y)\n",
    "# rcv"
   ]
  },
  {
   "cell_type": "code",
   "execution_count": 33,
   "id": "bc8025aa",
   "metadata": {
    "execution": {
     "iopub.execute_input": "2023-08-04T13:51:49.199664Z",
     "iopub.status.busy": "2023-08-04T13:51:49.198847Z",
     "iopub.status.idle": "2023-08-04T13:51:49.202971Z",
     "shell.execute_reply": "2023-08-04T13:51:49.202197Z"
    },
    "papermill": {
     "duration": 0.040016,
     "end_time": "2023-08-04T13:51:49.205484",
     "exception": false,
     "start_time": "2023-08-04T13:51:49.165468",
     "status": "completed"
    },
    "tags": []
   },
   "outputs": [],
   "source": [
    "# rcv.fit(x,y)"
   ]
  },
  {
   "cell_type": "code",
   "execution_count": 34,
   "id": "99fd73c8",
   "metadata": {
    "execution": {
     "iopub.execute_input": "2023-08-04T13:51:49.291580Z",
     "iopub.status.busy": "2023-08-04T13:51:49.290854Z",
     "iopub.status.idle": "2023-08-04T13:51:49.294859Z",
     "shell.execute_reply": "2023-08-04T13:51:49.294010Z"
    },
    "papermill": {
     "duration": 0.050281,
     "end_time": "2023-08-04T13:51:49.297365",
     "exception": false,
     "start_time": "2023-08-04T13:51:49.247084",
     "status": "completed"
    },
    "tags": []
   },
   "outputs": [],
   "source": [
    "# print(\"Tuned Hyperparameters :\", rcv.best_params_)\n",
    "# print(\"Accuracy :\",rcv.best_score_)\n",
    "\n",
    "# Tuned Hyperparameters : {'lor__solver': 'newton-cg', 'lor__penalty': 'l2', 'lor__max_iter': 50, 'lor__C': 1.0}\n",
    "# Accuracy : 0.8132397071160741"
   ]
  },
  {
   "cell_type": "markdown",
   "id": "bd6a66e3",
   "metadata": {
    "papermill": {
     "duration": 0.025618,
     "end_time": "2023-08-04T13:51:49.363157",
     "exception": false,
     "start_time": "2023-08-04T13:51:49.337539",
     "status": "completed"
    },
    "tags": []
   },
   "source": [
    "Tuned Hyperparameters : {'lor__solver': 'newton-cg', 'lor__penalty': 'l2', 'lor__max_iter': 50, 'lor__C': 1.0}\n",
    "\n",
    "Accuracy : 0.8132397071160741"
   ]
  },
  {
   "cell_type": "code",
   "execution_count": 35,
   "id": "3b1fab40",
   "metadata": {
    "execution": {
     "iopub.execute_input": "2023-08-04T13:51:49.428620Z",
     "iopub.status.busy": "2023-08-04T13:51:49.427947Z",
     "iopub.status.idle": "2023-08-04T13:52:05.592377Z",
     "shell.execute_reply": "2023-08-04T13:52:05.590950Z"
    },
    "papermill": {
     "duration": 16.206528,
     "end_time": "2023-08-04T13:52:05.595463",
     "exception": false,
     "start_time": "2023-08-04T13:51:49.388935",
     "status": "completed"
    },
    "tags": []
   },
   "outputs": [],
   "source": [
    "# After hyperparameter tuning\n",
    "\n",
    "from sklearn.linear_model import LogisticRegression\n",
    "lor = LogisticRegression(solver='newton-cg',penalty = 'l2',max_iter=50,C=1.0,random_state=10)\n",
    "clf = Pipeline([('preprocessor', processor),\n",
    "                ('lor',lor)])\n",
    "model = clf.fit(x_train,y_train)"
   ]
  },
  {
   "cell_type": "code",
   "execution_count": 36,
   "id": "22c61017",
   "metadata": {
    "execution": {
     "iopub.execute_input": "2023-08-04T13:52:05.653609Z",
     "iopub.status.busy": "2023-08-04T13:52:05.653196Z",
     "iopub.status.idle": "2023-08-04T13:52:09.332484Z",
     "shell.execute_reply": "2023-08-04T13:52:09.330737Z"
    },
    "papermill": {
     "duration": 3.711889,
     "end_time": "2023-08-04T13:52:09.334956",
     "exception": false,
     "start_time": "2023-08-04T13:52:05.623067",
     "status": "completed"
    },
    "tags": []
   },
   "outputs": [
    {
     "name": "stdout",
     "output_type": "stream",
     "text": [
      "Accuracy: 0.852504638218924\n"
     ]
    }
   ],
   "source": [
    "print(\"Accuracy:\",model.score(x_train, y_train))"
   ]
  },
  {
   "cell_type": "code",
   "execution_count": 37,
   "id": "c7d89b13",
   "metadata": {
    "execution": {
     "iopub.execute_input": "2023-08-04T13:52:09.388858Z",
     "iopub.status.busy": "2023-08-04T13:52:09.388091Z",
     "iopub.status.idle": "2023-08-04T13:52:10.330870Z",
     "shell.execute_reply": "2023-08-04T13:52:10.329211Z"
    },
    "papermill": {
     "duration": 0.973081,
     "end_time": "2023-08-04T13:52:10.333917",
     "exception": false,
     "start_time": "2023-08-04T13:52:09.360836",
     "status": "completed"
    },
    "tags": []
   },
   "outputs": [
    {
     "name": "stdout",
     "output_type": "stream",
     "text": [
      "Accuracy: 0.8193071682180213\n"
     ]
    }
   ],
   "source": [
    "print(\"Accuracy:\",model.score(x_test, y_test))"
   ]
  },
  {
   "cell_type": "code",
   "execution_count": 38,
   "id": "4d62016a",
   "metadata": {
    "execution": {
     "iopub.execute_input": "2023-08-04T13:52:10.391319Z",
     "iopub.status.busy": "2023-08-04T13:52:10.390818Z",
     "iopub.status.idle": "2023-08-04T13:52:31.084901Z",
     "shell.execute_reply": "2023-08-04T13:52:31.083339Z"
    },
    "papermill": {
     "duration": 20.726978,
     "end_time": "2023-08-04T13:52:31.088072",
     "exception": false,
     "start_time": "2023-08-04T13:52:10.361094",
     "status": "completed"
    },
    "tags": []
   },
   "outputs": [],
   "source": [
    "model = clf.fit(x,y)"
   ]
  },
  {
   "cell_type": "code",
   "execution_count": 39,
   "id": "15532529",
   "metadata": {
    "execution": {
     "iopub.execute_input": "2023-08-04T13:52:31.146315Z",
     "iopub.status.busy": "2023-08-04T13:52:31.145346Z",
     "iopub.status.idle": "2023-08-04T13:52:31.150611Z",
     "shell.execute_reply": "2023-08-04T13:52:31.149699Z"
    },
    "papermill": {
     "duration": 0.037067,
     "end_time": "2023-08-04T13:52:31.152876",
     "exception": false,
     "start_time": "2023-08-04T13:52:31.115809",
     "status": "completed"
    },
    "tags": []
   },
   "outputs": [],
   "source": [
    "# # After hyperparameter tuning\n",
    "\n",
    "# from sklearn.linear_model import LogisticRegression\n",
    "# lor = LogisticRegression(solver='newton-cg',penalty = 'l2',max_iter=1000,C=1.0)\n",
    "# clf = Pipeline([('preprocessor', processor),\n",
    "#                 ('lor',lor)])\n",
    "# model = clf.fit(x,y)"
   ]
  },
  {
   "cell_type": "code",
   "execution_count": 40,
   "id": "74dd9e06",
   "metadata": {
    "execution": {
     "iopub.execute_input": "2023-08-04T13:52:31.212891Z",
     "iopub.status.busy": "2023-08-04T13:52:31.212141Z",
     "iopub.status.idle": "2023-08-04T13:52:35.829285Z",
     "shell.execute_reply": "2023-08-04T13:52:35.828042Z"
    },
    "papermill": {
     "duration": 4.649584,
     "end_time": "2023-08-04T13:52:35.831776",
     "exception": false,
     "start_time": "2023-08-04T13:52:31.182192",
     "status": "completed"
    },
    "tags": []
   },
   "outputs": [
    {
     "name": "stdout",
     "output_type": "stream",
     "text": [
      "Accuracy: 0.8522176942121795\n"
     ]
    }
   ],
   "source": [
    "print(\"Accuracy:\",model.score(x, y))"
   ]
  },
  {
   "cell_type": "markdown",
   "id": "f83e195d",
   "metadata": {
    "papermill": {
     "duration": 0.026174,
     "end_time": "2023-08-04T13:52:35.884611",
     "exception": false,
     "start_time": "2023-08-04T13:52:35.858437",
     "status": "completed"
    },
    "tags": []
   },
   "source": [
    "Accuracy: 0.8522176942121795"
   ]
  },
  {
   "cell_type": "code",
   "execution_count": 41,
   "id": "f3d7d5ac",
   "metadata": {
    "execution": {
     "iopub.execute_input": "2023-08-04T13:52:35.944008Z",
     "iopub.status.busy": "2023-08-04T13:52:35.943226Z",
     "iopub.status.idle": "2023-08-04T13:52:47.671159Z",
     "shell.execute_reply": "2023-08-04T13:52:47.669338Z"
    },
    "papermill": {
     "duration": 11.761411,
     "end_time": "2023-08-04T13:52:47.673680",
     "exception": false,
     "start_time": "2023-08-04T13:52:35.912269",
     "status": "completed"
    },
    "tags": []
   },
   "outputs": [
    {
     "name": "stdout",
     "output_type": "stream",
     "text": [
      "              precision    recall  f1-score   support\n",
      "\n",
      "    NEGATIVE       0.83      0.69      0.76     51592\n",
      "    POSITIVE       0.86      0.93      0.89    104719\n",
      "\n",
      "    accuracy                           0.85    156311\n",
      "   macro avg       0.85      0.81      0.83    156311\n",
      "weighted avg       0.85      0.85      0.85    156311\n",
      "\n"
     ]
    }
   ],
   "source": [
    "from sklearn.metrics import classification_report\n",
    "y_pred = model.predict(x)\n",
    "print(classification_report(y, y_pred))"
   ]
  },
  {
   "cell_type": "code",
   "execution_count": 42,
   "id": "644996fa",
   "metadata": {
    "execution": {
     "iopub.execute_input": "2023-08-04T13:52:47.728605Z",
     "iopub.status.busy": "2023-08-04T13:52:47.728181Z",
     "iopub.status.idle": "2023-08-04T13:52:48.838472Z",
     "shell.execute_reply": "2023-08-04T13:52:48.836920Z"
    },
    "papermill": {
     "duration": 1.140698,
     "end_time": "2023-08-04T13:52:48.841186",
     "exception": false,
     "start_time": "2023-08-04T13:52:47.700488",
     "status": "completed"
    },
    "tags": []
   },
   "outputs": [
    {
     "data": {
      "image/png": "[encoded data removed]",
      "text/plain": [
       "<Figure size 640x480 with 2 Axes>"
      ]
     },
     "metadata": {},
     "output_type": "display_data"
    }
   ],
   "source": [
    "from sklearn.metrics import confusion_matrix,ConfusionMatrixDisplay\n",
    "import matplotlib.pyplot as plt\n",
    "cm = confusion_matrix(y, y_pred)\n",
    "disp = ConfusionMatrixDisplay(confusion_matrix=cm)\n",
    "disp.plot()\n",
    "plt.show()"
   ]
  },
  {
   "cell_type": "code",
   "execution_count": 43,
   "id": "74fb0f73",
   "metadata": {
    "execution": {
     "iopub.execute_input": "2023-08-04T13:52:48.898716Z",
     "iopub.status.busy": "2023-08-04T13:52:48.898135Z",
     "iopub.status.idle": "2023-08-04T13:52:48.940423Z",
     "shell.execute_reply": "2023-08-04T13:52:48.939095Z"
    },
    "papermill": {
     "duration": 0.075308,
     "end_time": "2023-08-04T13:52:48.942922",
     "exception": false,
     "start_time": "2023-08-04T13:52:48.867614",
     "status": "completed"
    },
    "tags": []
   },
   "outputs": [],
   "source": [
    "from sklearn.preprocessing import LabelEncoder\n",
    "le = LabelEncoder()\n",
    "y_encoded = le.fit_transform(y)"
   ]
  },
  {
   "cell_type": "code",
   "execution_count": 44,
   "id": "070277d8",
   "metadata": {
    "execution": {
     "iopub.execute_input": "2023-08-04T13:52:48.999864Z",
     "iopub.status.busy": "2023-08-04T13:52:48.999334Z",
     "iopub.status.idle": "2023-08-04T13:52:53.789916Z",
     "shell.execute_reply": "2023-08-04T13:52:53.788437Z"
    },
    "papermill": {
     "duration": 4.823385,
     "end_time": "2023-08-04T13:52:53.793183",
     "exception": false,
     "start_time": "2023-08-04T13:52:48.969798",
     "status": "completed"
    },
    "tags": []
   },
   "outputs": [
    {
     "name": "stdout",
     "output_type": "stream",
     "text": [
      "No Skill: ROC AUC=0.500\n",
      "Logistic: ROC AUC=0.922\n"
     ]
    },
    {
     "data": {
      "image/png": "[encoded data removed]",
      "text/plain": [
       "<Figure size 640x480 with 1 Axes>"
      ]
     },
     "metadata": {},
     "output_type": "display_data"
    }
   ],
   "source": [
    "from sklearn.metrics import roc_curve\n",
    "from sklearn.metrics import roc_auc_score\n",
    "from matplotlib import pyplot\n",
    "ns_probs = [0 for _ in range(len(y_encoded))]\n",
    "lr_probs = model.predict_proba(x)\n",
    "lr_probs = lr_probs[:, 1]\n",
    "# calculate scores\n",
    "ns_auc = roc_auc_score(y_encoded, ns_probs)\n",
    "lr_auc = roc_auc_score(y_encoded, lr_probs)\n",
    "# summarize scores\n",
    "print('No Skill: ROC AUC=%.3f' % (ns_auc))\n",
    "print('Logistic: ROC AUC=%.3f' % (lr_auc))\n",
    "# calculate roc curves\n",
    "ns_fpr, ns_tpr, _ = roc_curve(y_encoded, ns_probs)\n",
    "lr_fpr, lr_tpr, _ = roc_curve(y_encoded, lr_probs)\n",
    "# plot the roc curve for the model\n",
    "pyplot.plot(ns_fpr, ns_tpr, linestyle='--', label='No Skill')\n",
    "pyplot.plot(lr_fpr, lr_tpr, marker='.', label='Logistic')\n",
    "# axis labels\n",
    "pyplot.xlabel('False Positive Rate')\n",
    "pyplot.ylabel('True Positive Rate')\n",
    "# show the legend\n",
    "pyplot.legend()\n",
    "# show the plot\n",
    "pyplot.show()"
   ]
  },
  {
   "cell_type": "markdown",
   "id": "74e122b3",
   "metadata": {
    "papermill": {
     "duration": 0.02816,
     "end_time": "2023-08-04T13:52:53.851369",
     "exception": false,
     "start_time": "2023-08-04T13:52:53.823209",
     "status": "completed"
    },
    "tags": []
   },
   "source": [
    "# SGD Classifier"
   ]
  },
  {
   "cell_type": "code",
   "execution_count": 45,
   "id": "9a687e36",
   "metadata": {
    "execution": {
     "iopub.execute_input": "2023-08-04T13:52:53.909457Z",
     "iopub.status.busy": "2023-08-04T13:52:53.909014Z",
     "iopub.status.idle": "2023-08-04T13:52:53.916083Z",
     "shell.execute_reply": "2023-08-04T13:52:53.914140Z"
    },
    "papermill": {
     "duration": 0.039507,
     "end_time": "2023-08-04T13:52:53.919194",
     "exception": false,
     "start_time": "2023-08-04T13:52:53.879687",
     "status": "completed"
    },
    "tags": []
   },
   "outputs": [],
   "source": [
    "# from sklearn.linear_model import SGDClassifier\n",
    "# sgd = SGDClassifier(max_iter=1000, tol=1e-3)\n",
    "# clf = Pipeline([('preprocessor', processor),\n",
    "#                 ('sgd',sgd)])"
   ]
  },
  {
   "cell_type": "code",
   "execution_count": 46,
   "id": "91e89877",
   "metadata": {
    "execution": {
     "iopub.execute_input": "2023-08-04T13:52:53.977364Z",
     "iopub.status.busy": "2023-08-04T13:52:53.976932Z",
     "iopub.status.idle": "2023-08-04T13:52:53.982211Z",
     "shell.execute_reply": "2023-08-04T13:52:53.980988Z"
    },
    "papermill": {
     "duration": 0.037456,
     "end_time": "2023-08-04T13:52:53.984845",
     "exception": false,
     "start_time": "2023-08-04T13:52:53.947389",
     "status": "completed"
    },
    "tags": []
   },
   "outputs": [],
   "source": [
    "# from sklearn.model_selection import RandomizedSearchCV\n",
    "# parameters = {\n",
    "#     'sgd__loss' : ['hinge', 'log_loss', 'modified_huber', 'squared_hinge', 'perceptron'],\n",
    "#     'sgd__penalty' : ['l1','l2'],\n",
    "#     'sgd__alpha' : [0.0001, 0.001, 0.01, 0.1]\n",
    "# }\n",
    "\n",
    "# rcv = RandomizedSearchCV(clf,\n",
    "#                    param_distributions = parameters,\n",
    "#                    scoring='accuracy',\n",
    "#                    cv=5,n_iter=5)        \n",
    "# # rcv.fit(x,y)\n",
    "# # rcv"
   ]
  },
  {
   "cell_type": "code",
   "execution_count": 47,
   "id": "01607fa2",
   "metadata": {
    "execution": {
     "iopub.execute_input": "2023-08-04T13:52:54.045773Z",
     "iopub.status.busy": "2023-08-04T13:52:54.045324Z",
     "iopub.status.idle": "2023-08-04T13:52:54.050487Z",
     "shell.execute_reply": "2023-08-04T13:52:54.049340Z"
    },
    "papermill": {
     "duration": 0.037143,
     "end_time": "2023-08-04T13:52:54.052931",
     "exception": false,
     "start_time": "2023-08-04T13:52:54.015788",
     "status": "completed"
    },
    "tags": []
   },
   "outputs": [],
   "source": [
    "# rcv.fit(x_train,y_train)"
   ]
  },
  {
   "cell_type": "code",
   "execution_count": 48,
   "id": "1b86aaee",
   "metadata": {
    "execution": {
     "iopub.execute_input": "2023-08-04T13:52:54.112094Z",
     "iopub.status.busy": "2023-08-04T13:52:54.111515Z",
     "iopub.status.idle": "2023-08-04T13:52:54.117357Z",
     "shell.execute_reply": "2023-08-04T13:52:54.115977Z"
    },
    "papermill": {
     "duration": 0.037884,
     "end_time": "2023-08-04T13:52:54.119774",
     "exception": false,
     "start_time": "2023-08-04T13:52:54.081890",
     "status": "completed"
    },
    "tags": []
   },
   "outputs": [],
   "source": [
    "# print(\"Tuned Hyperparameters :\", rcv.best_params_)\n",
    "# print(\"Accuracy :\",rcv.best_score_)\n",
    "\n",
    "# Tuned Hyperparameters : {'sgd__penalty': 'l2', 'sgd__loss': 'modified_huber', 'sgd__alpha': 0.0001}\n",
    "# Accuracy : 0.7399002221311639"
   ]
  },
  {
   "cell_type": "code",
   "execution_count": 49,
   "id": "2e5c9030",
   "metadata": {
    "execution": {
     "iopub.execute_input": "2023-08-04T13:52:54.179548Z",
     "iopub.status.busy": "2023-08-04T13:52:54.179158Z",
     "iopub.status.idle": "2023-08-04T13:52:54.184802Z",
     "shell.execute_reply": "2023-08-04T13:52:54.183290Z"
    },
    "papermill": {
     "duration": 0.038789,
     "end_time": "2023-08-04T13:52:54.187320",
     "exception": false,
     "start_time": "2023-08-04T13:52:54.148531",
     "status": "completed"
    },
    "tags": []
   },
   "outputs": [],
   "source": [
    "# from sklearn.linear_model import SGDClassifier\n",
    "# sgd = SGDClassifier(penalty= 'l2',loss='modified_huber',alpha= 0.0001,random_state=10)\n",
    "# clf = Pipeline([('preprocessor', processor),\n",
    "#                 ('sgd',sgd)])"
   ]
  },
  {
   "cell_type": "code",
   "execution_count": 50,
   "id": "3550a1d2",
   "metadata": {
    "execution": {
     "iopub.execute_input": "2023-08-04T13:52:54.252075Z",
     "iopub.status.busy": "2023-08-04T13:52:54.251677Z",
     "iopub.status.idle": "2023-08-04T13:52:54.257108Z",
     "shell.execute_reply": "2023-08-04T13:52:54.255243Z"
    },
    "papermill": {
     "duration": 0.043066,
     "end_time": "2023-08-04T13:52:54.260113",
     "exception": false,
     "start_time": "2023-08-04T13:52:54.217047",
     "status": "completed"
    },
    "tags": []
   },
   "outputs": [],
   "source": [
    "# model = clf.fit(x_train,y_train)"
   ]
  },
  {
   "cell_type": "code",
   "execution_count": 51,
   "id": "3a7ec2ab",
   "metadata": {
    "execution": {
     "iopub.execute_input": "2023-08-04T13:52:54.325509Z",
     "iopub.status.busy": "2023-08-04T13:52:54.325125Z",
     "iopub.status.idle": "2023-08-04T13:52:54.329808Z",
     "shell.execute_reply": "2023-08-04T13:52:54.328426Z"
    },
    "papermill": {
     "duration": 0.042134,
     "end_time": "2023-08-04T13:52:54.332581",
     "exception": false,
     "start_time": "2023-08-04T13:52:54.290447",
     "status": "completed"
    },
    "tags": []
   },
   "outputs": [],
   "source": [
    "# print(\"Accuracy:\",model.score(x_train, y_train))"
   ]
  },
  {
   "cell_type": "code",
   "execution_count": 52,
   "id": "61eb84d8",
   "metadata": {
    "execution": {
     "iopub.execute_input": "2023-08-04T13:52:54.402145Z",
     "iopub.status.busy": "2023-08-04T13:52:54.400064Z",
     "iopub.status.idle": "2023-08-04T13:52:54.407413Z",
     "shell.execute_reply": "2023-08-04T13:52:54.405841Z"
    },
    "papermill": {
     "duration": 0.045658,
     "end_time": "2023-08-04T13:52:54.410608",
     "exception": false,
     "start_time": "2023-08-04T13:52:54.364950",
     "status": "completed"
    },
    "tags": []
   },
   "outputs": [],
   "source": [
    "# print(\"Accuracy:\",model.score(x_test, y_test))"
   ]
  },
  {
   "cell_type": "code",
   "execution_count": 53,
   "id": "972891b0",
   "metadata": {
    "execution": {
     "iopub.execute_input": "2023-08-04T13:52:54.474950Z",
     "iopub.status.busy": "2023-08-04T13:52:54.474549Z",
     "iopub.status.idle": "2023-08-04T13:52:54.478747Z",
     "shell.execute_reply": "2023-08-04T13:52:54.477842Z"
    },
    "papermill": {
     "duration": 0.03956,
     "end_time": "2023-08-04T13:52:54.481139",
     "exception": false,
     "start_time": "2023-08-04T13:52:54.441579",
     "status": "completed"
    },
    "tags": []
   },
   "outputs": [],
   "source": [
    "# losses = [\"hinge\", \"log_loss\", \"modified_huber\", \"perceptron\", \"squared_hinge\"]\n",
    "# scores = []\n",
    "# for loss in losses:\n",
    "#     sgd = SGDClassifier(loss=loss, penalty=\"l2\", max_iter=1000)\n",
    "#     clf = Pipeline([('preprocessor', processor),\n",
    "#                 ('sgd',sgd)])\n",
    "#     clf.fit(x_train,y_train)\n",
    "#     scores.append(clf.score(x_test, y_test))\n",
    "# plt.title(\"Effect of loss\")\n",
    "# plt.xlabel(\"loss\")\n",
    "# plt.ylabel(\"score\")\n",
    "# x_1 = np.arange(len(losses))\n",
    "# plt.xticks(x_1, losses)\n",
    "# plt.plot(x_1, scores)"
   ]
  },
  {
   "cell_type": "markdown",
   "id": "255d237c",
   "metadata": {
    "papermill": {
     "duration": 0.028794,
     "end_time": "2023-08-04T13:52:54.539562",
     "exception": false,
     "start_time": "2023-08-04T13:52:54.510768",
     "status": "completed"
    },
    "tags": []
   },
   "source": [
    "# KNN Classifier"
   ]
  },
  {
   "cell_type": "code",
   "execution_count": 54,
   "id": "c278f33c",
   "metadata": {
    "execution": {
     "iopub.execute_input": "2023-08-04T13:52:54.596563Z",
     "iopub.status.busy": "2023-08-04T13:52:54.596196Z",
     "iopub.status.idle": "2023-08-04T13:52:54.601088Z",
     "shell.execute_reply": "2023-08-04T13:52:54.599917Z"
    },
    "papermill": {
     "duration": 0.035281,
     "end_time": "2023-08-04T13:52:54.603273",
     "exception": false,
     "start_time": "2023-08-04T13:52:54.567992",
     "status": "completed"
    },
    "tags": []
   },
   "outputs": [],
   "source": [
    "# from sklearn.neighbors import KNeighborsClassifier\n",
    "# neigh = KNeighborsClassifier(n_neighbors = 5, weights = 'uniform',algorithm = 'brute',metric = 'minkowski')"
   ]
  },
  {
   "cell_type": "code",
   "execution_count": 55,
   "id": "5c2856fc",
   "metadata": {
    "execution": {
     "iopub.execute_input": "2023-08-04T13:52:54.658821Z",
     "iopub.status.busy": "2023-08-04T13:52:54.658438Z",
     "iopub.status.idle": "2023-08-04T13:52:54.663275Z",
     "shell.execute_reply": "2023-08-04T13:52:54.662117Z"
    },
    "papermill": {
     "duration": 0.035251,
     "end_time": "2023-08-04T13:52:54.665389",
     "exception": false,
     "start_time": "2023-08-04T13:52:54.630138",
     "status": "completed"
    },
    "tags": []
   },
   "outputs": [],
   "source": [
    "# from sklearn.model_selection import train_test_split\n",
    "# from sklearn.metrics import accuracy_score\n",
    "# X_train, X_test, y_train, y_test = train_test_split(X_model,y,test_size=0.2, random_state=42)\n",
    "\n",
    "# neigh.fit(X_train, y_train)"
   ]
  },
  {
   "cell_type": "code",
   "execution_count": 56,
   "id": "eae6a7d4",
   "metadata": {
    "execution": {
     "iopub.execute_input": "2023-08-04T13:52:54.721025Z",
     "iopub.status.busy": "2023-08-04T13:52:54.720669Z",
     "iopub.status.idle": "2023-08-04T13:52:54.724411Z",
     "shell.execute_reply": "2023-08-04T13:52:54.723379Z"
    },
    "papermill": {
     "duration": 0.034283,
     "end_time": "2023-08-04T13:52:54.726545",
     "exception": false,
     "start_time": "2023-08-04T13:52:54.692262",
     "status": "completed"
    },
    "tags": []
   },
   "outputs": [],
   "source": [
    "# y_hat = neigh.predict(X_train)\n",
    "# y_knn = neigh.predict(X_test)"
   ]
  },
  {
   "cell_type": "code",
   "execution_count": 57,
   "id": "02a961e6",
   "metadata": {
    "execution": {
     "iopub.execute_input": "2023-08-04T13:52:54.782768Z",
     "iopub.status.busy": "2023-08-04T13:52:54.782152Z",
     "iopub.status.idle": "2023-08-04T13:52:54.786493Z",
     "shell.execute_reply": "2023-08-04T13:52:54.785717Z"
    },
    "papermill": {
     "duration": 0.03547,
     "end_time": "2023-08-04T13:52:54.788623",
     "exception": false,
     "start_time": "2023-08-04T13:52:54.753153",
     "status": "completed"
    },
    "tags": []
   },
   "outputs": [],
   "source": [
    "# print('Training set accuracy: ', accuracy_score(y_train, y_hat))\n",
    "# print('Test set accuracy: ',accuracy_score(y_test, y_knn))\n",
    "\n",
    "# Output:\n",
    "# Training set accuracy:  0.8554395112276886\n",
    "# Test set accuracy:  0.7241467549499409"
   ]
  },
  {
   "cell_type": "markdown",
   "id": "33f80d6f",
   "metadata": {
    "papermill": {
     "duration": 0.026605,
     "end_time": "2023-08-04T13:52:54.842413",
     "exception": false,
     "start_time": "2023-08-04T13:52:54.815808",
     "status": "completed"
    },
    "tags": []
   },
   "source": [
    "Output: \n",
    "\n",
    "Training set accuracy:  0.8554395112276886\n",
    "\n",
    "Test set accuracy:  0.7241467549499409"
   ]
  },
  {
   "cell_type": "markdown",
   "id": "eabc9215",
   "metadata": {
    "papermill": {
     "duration": 0.026616,
     "end_time": "2023-08-04T13:52:54.896024",
     "exception": false,
     "start_time": "2023-08-04T13:52:54.869408",
     "status": "completed"
    },
    "tags": []
   },
   "source": [
    "# SVM Classifier"
   ]
  },
  {
   "cell_type": "code",
   "execution_count": 58,
   "id": "0cabbe34",
   "metadata": {
    "execution": {
     "iopub.execute_input": "2023-08-04T13:52:54.952852Z",
     "iopub.status.busy": "2023-08-04T13:52:54.952459Z",
     "iopub.status.idle": "2023-08-04T13:52:54.957162Z",
     "shell.execute_reply": "2023-08-04T13:52:54.955930Z"
    },
    "papermill": {
     "duration": 0.035597,
     "end_time": "2023-08-04T13:52:54.959482",
     "exception": false,
     "start_time": "2023-08-04T13:52:54.923885",
     "status": "completed"
    },
    "tags": []
   },
   "outputs": [],
   "source": [
    "# #Import svm model\n",
    "# from sklearn import svm\n",
    "\n",
    "# #Create a svm Classifier\n",
    "# svc = svm.SVC(kernel='linear') # Linear Kernel\n",
    "# clf = Pipeline([('preprocessor', processor),\n",
    "#                 ('svc',svc)])\n",
    "# #Train the model using the training sets\n",
    "# model = clf.fit(x_train, y_train)"
   ]
  },
  {
   "cell_type": "code",
   "execution_count": 59,
   "id": "902aeaa5",
   "metadata": {
    "execution": {
     "iopub.execute_input": "2023-08-04T13:52:55.016708Z",
     "iopub.status.busy": "2023-08-04T13:52:55.016249Z",
     "iopub.status.idle": "2023-08-04T13:52:55.021719Z",
     "shell.execute_reply": "2023-08-04T13:52:55.020408Z"
    },
    "papermill": {
     "duration": 0.037817,
     "end_time": "2023-08-04T13:52:55.024307",
     "exception": false,
     "start_time": "2023-08-04T13:52:54.986490",
     "status": "completed"
    },
    "tags": []
   },
   "outputs": [],
   "source": [
    "# print(\"Accuracy:\",clf.score(X_model,y))\n",
    "\n",
    "# Output:\n",
    "# Accuracy: 0.8691902681193262"
   ]
  },
  {
   "cell_type": "markdown",
   "id": "dea482ee",
   "metadata": {
    "papermill": {
     "duration": 0.026574,
     "end_time": "2023-08-04T13:52:55.077840",
     "exception": false,
     "start_time": "2023-08-04T13:52:55.051266",
     "status": "completed"
    },
    "tags": []
   },
   "source": [
    "Output: \n",
    "Accuracy: 0.8691902681193262"
   ]
  },
  {
   "cell_type": "markdown",
   "id": "485490ed",
   "metadata": {
    "papermill": {
     "duration": 0.02698,
     "end_time": "2023-08-04T13:52:55.131675",
     "exception": false,
     "start_time": "2023-08-04T13:52:55.104695",
     "status": "completed"
    },
    "tags": []
   },
   "source": [
    "# CART"
   ]
  },
  {
   "cell_type": "code",
   "execution_count": 60,
   "id": "8de4a762",
   "metadata": {
    "execution": {
     "iopub.execute_input": "2023-08-04T13:52:55.187601Z",
     "iopub.status.busy": "2023-08-04T13:52:55.187120Z",
     "iopub.status.idle": "2023-08-04T13:52:55.192309Z",
     "shell.execute_reply": "2023-08-04T13:52:55.191025Z"
    },
    "papermill": {
     "duration": 0.03599,
     "end_time": "2023-08-04T13:52:55.194598",
     "exception": false,
     "start_time": "2023-08-04T13:52:55.158608",
     "status": "completed"
    },
    "tags": []
   },
   "outputs": [],
   "source": [
    "# from sklearn.tree import DecisionTreeClassifier\n",
    "# dt = DecisionTreeClassifier()\n",
    "# clf = Pipeline([('preprocessor', processor),\n",
    "#                 ('dt',dt)])\n",
    "# model = clf.fit(x,y)"
   ]
  },
  {
   "cell_type": "code",
   "execution_count": 61,
   "id": "dc5989df",
   "metadata": {
    "execution": {
     "iopub.execute_input": "2023-08-04T13:52:55.251291Z",
     "iopub.status.busy": "2023-08-04T13:52:55.250859Z",
     "iopub.status.idle": "2023-08-04T13:52:55.256251Z",
     "shell.execute_reply": "2023-08-04T13:52:55.254883Z"
    },
    "papermill": {
     "duration": 0.036787,
     "end_time": "2023-08-04T13:52:55.258745",
     "exception": false,
     "start_time": "2023-08-04T13:52:55.221958",
     "status": "completed"
    },
    "tags": []
   },
   "outputs": [],
   "source": [
    "# print(\"Accuracy:\",model.score(x, y))"
   ]
  },
  {
   "cell_type": "code",
   "execution_count": 62,
   "id": "01229209",
   "metadata": {
    "execution": {
     "iopub.execute_input": "2023-08-04T13:52:55.318756Z",
     "iopub.status.busy": "2023-08-04T13:52:55.317453Z",
     "iopub.status.idle": "2023-08-04T13:52:55.322780Z",
     "shell.execute_reply": "2023-08-04T13:52:55.321696Z"
    },
    "papermill": {
     "duration": 0.038307,
     "end_time": "2023-08-04T13:52:55.325737",
     "exception": false,
     "start_time": "2023-08-04T13:52:55.287430",
     "status": "completed"
    },
    "tags": []
   },
   "outputs": [],
   "source": [
    "# parameters = {\n",
    "#     'dt__criterion' : [\"gini\", \"entropy\", \"log_loss\"], \n",
    "#     'dt__splitter'  : [\"best\", \"random\"],\n",
    "#     'dt__max_depth' : [25,50],\n",
    "#     'dt__min_samples_split'  : [2,4]\n",
    "# }\n",
    "\n",
    "# rcv = RandomizedSearchCV(model,\n",
    "#                    param_distributions = parameters,\n",
    "#                    scoring='accuracy',\n",
    "#                    cv=5,n_iter=5)        \n",
    "# rcv.fit(x,y)\n",
    "# rcv"
   ]
  },
  {
   "cell_type": "code",
   "execution_count": 63,
   "id": "aefb68f0",
   "metadata": {
    "execution": {
     "iopub.execute_input": "2023-08-04T13:52:55.384545Z",
     "iopub.status.busy": "2023-08-04T13:52:55.384126Z",
     "iopub.status.idle": "2023-08-04T13:52:55.389032Z",
     "shell.execute_reply": "2023-08-04T13:52:55.388187Z"
    },
    "papermill": {
     "duration": 0.036477,
     "end_time": "2023-08-04T13:52:55.391054",
     "exception": false,
     "start_time": "2023-08-04T13:52:55.354577",
     "status": "completed"
    },
    "tags": []
   },
   "outputs": [],
   "source": [
    "# print(\"Tuned Hyperparameters :\", rcv.best_params_)\n",
    "# print(\"Accuracy :\",rcv.best_score_)\n",
    "\n",
    "# # Tuned Hyperparameters : {'dt__splitter': 'random', 'dt__min_samples_split': 4, 'dt__max_depth': 25, 'dt__criterion': 'entropy'}\n",
    "# # Accuracy : 0.6951718045500351"
   ]
  },
  {
   "cell_type": "code",
   "execution_count": 64,
   "id": "b86da102",
   "metadata": {
    "execution": {
     "iopub.execute_input": "2023-08-04T13:52:55.450319Z",
     "iopub.status.busy": "2023-08-04T13:52:55.449948Z",
     "iopub.status.idle": "2023-08-04T13:52:55.455149Z",
     "shell.execute_reply": "2023-08-04T13:52:55.453925Z"
    },
    "papermill": {
     "duration": 0.037734,
     "end_time": "2023-08-04T13:52:55.457736",
     "exception": false,
     "start_time": "2023-08-04T13:52:55.420002",
     "status": "completed"
    },
    "tags": []
   },
   "outputs": [],
   "source": [
    "# from sklearn.tree import DecisionTreeClassifier\n",
    "# dt = DecisionTreeClassifier(splitter='random',min_samples_split=4,max_depth=25,criterion='gini')\n",
    "# clf = Pipeline([('preprocessor', processor),\n",
    "#                 ('dt',dt)])\n",
    "# model = clf.fit(x,y)"
   ]
  },
  {
   "cell_type": "code",
   "execution_count": 65,
   "id": "f9019c79",
   "metadata": {
    "execution": {
     "iopub.execute_input": "2023-08-04T13:52:55.518935Z",
     "iopub.status.busy": "2023-08-04T13:52:55.518504Z",
     "iopub.status.idle": "2023-08-04T13:52:55.523948Z",
     "shell.execute_reply": "2023-08-04T13:52:55.522620Z"
    },
    "papermill": {
     "duration": 0.037817,
     "end_time": "2023-08-04T13:52:55.526467",
     "exception": false,
     "start_time": "2023-08-04T13:52:55.488650",
     "status": "completed"
    },
    "tags": []
   },
   "outputs": [],
   "source": [
    "# print(\"Accuracy:\",model.score(x, y))"
   ]
  },
  {
   "cell_type": "markdown",
   "id": "6a05dbd7",
   "metadata": {
    "papermill": {
     "duration": 0.028043,
     "end_time": "2023-08-04T13:52:55.582579",
     "exception": false,
     "start_time": "2023-08-04T13:52:55.554536",
     "status": "completed"
    },
    "tags": []
   },
   "source": [
    "Micro F1 score on test.csv : 0.70537 \n",
    "\n",
    "After adding 'ifFrequentReviewer' column,\n",
    "Micro F1 score on test.csv : 0.6944"
   ]
  },
  {
   "cell_type": "markdown",
   "id": "460c66ed",
   "metadata": {
    "papermill": {
     "duration": 0.028036,
     "end_time": "2023-08-04T13:52:55.639428",
     "exception": false,
     "start_time": "2023-08-04T13:52:55.611392",
     "status": "completed"
    },
    "tags": []
   },
   "source": [
    "# BAGGING"
   ]
  },
  {
   "cell_type": "code",
   "execution_count": 66,
   "id": "dc6704a2",
   "metadata": {
    "execution": {
     "iopub.execute_input": "2023-08-04T13:52:55.697282Z",
     "iopub.status.busy": "2023-08-04T13:52:55.696853Z",
     "iopub.status.idle": "2023-08-04T13:52:55.701307Z",
     "shell.execute_reply": "2023-08-04T13:52:55.700126Z"
    },
    "papermill": {
     "duration": 0.036421,
     "end_time": "2023-08-04T13:52:55.703580",
     "exception": false,
     "start_time": "2023-08-04T13:52:55.667159",
     "status": "completed"
    },
    "tags": []
   },
   "outputs": [],
   "source": [
    "# from sklearn.tree import DecisionTreeClassifier\n",
    "# from sklearn.ensemble import BaggingClassifier\n",
    "# bagging = BaggingClassifier(DecisionTreeClassifier(max_depth=25,min_samples_split=4,criterion='gini',random_state=0,class_weight='balanced'),n_estimators=10)\n",
    "# clf = Pipeline([('preprocessor', processor),\n",
    "#                 ('bagging',bagging)])\n",
    "# model = clf.fit(x,y)"
   ]
  },
  {
   "cell_type": "code",
   "execution_count": 67,
   "id": "7fc045ec",
   "metadata": {
    "execution": {
     "iopub.execute_input": "2023-08-04T13:52:55.761229Z",
     "iopub.status.busy": "2023-08-04T13:52:55.760791Z",
     "iopub.status.idle": "2023-08-04T13:52:55.766291Z",
     "shell.execute_reply": "2023-08-04T13:52:55.764924Z"
    },
    "papermill": {
     "duration": 0.037261,
     "end_time": "2023-08-04T13:52:55.768579",
     "exception": false,
     "start_time": "2023-08-04T13:52:55.731318",
     "status": "completed"
    },
    "tags": []
   },
   "outputs": [],
   "source": [
    "# from sklearn.ensemble import VotingClassifier\n",
    "# eclf = VotingClassifier(estimators=[('lor', lor), ('bag', bagging)],voting='hard')\n",
    "# clf = Pipeline([('preprocessor', processor),\n",
    "#                 ('voting',eclf)])\n",
    "# model = clf.fit(x,y)"
   ]
  },
  {
   "cell_type": "code",
   "execution_count": 68,
   "id": "d6cf27b8",
   "metadata": {
    "execution": {
     "iopub.execute_input": "2023-08-04T13:52:55.827049Z",
     "iopub.status.busy": "2023-08-04T13:52:55.826648Z",
     "iopub.status.idle": "2023-08-04T13:52:55.831963Z",
     "shell.execute_reply": "2023-08-04T13:52:55.830478Z"
    },
    "papermill": {
     "duration": 0.03763,
     "end_time": "2023-08-04T13:52:55.834787",
     "exception": false,
     "start_time": "2023-08-04T13:52:55.797157",
     "status": "completed"
    },
    "tags": []
   },
   "outputs": [],
   "source": [
    "# print(\"Accuracy:\",model.score(x,y))"
   ]
  },
  {
   "cell_type": "code",
   "execution_count": 69,
   "id": "0979033f",
   "metadata": {
    "execution": {
     "iopub.execute_input": "2023-08-04T13:52:55.893355Z",
     "iopub.status.busy": "2023-08-04T13:52:55.892445Z",
     "iopub.status.idle": "2023-08-04T13:52:55.896684Z",
     "shell.execute_reply": "2023-08-04T13:52:55.895825Z"
    },
    "papermill": {
     "duration": 0.035882,
     "end_time": "2023-08-04T13:52:55.898746",
     "exception": false,
     "start_time": "2023-08-04T13:52:55.862864",
     "status": "completed"
    },
    "tags": []
   },
   "outputs": [],
   "source": [
    "# print(\"Accuracy:\",model.score(x,y))"
   ]
  },
  {
   "cell_type": "code",
   "execution_count": 70,
   "id": "22397815",
   "metadata": {
    "execution": {
     "iopub.execute_input": "2023-08-04T13:52:55.960190Z",
     "iopub.status.busy": "2023-08-04T13:52:55.959562Z",
     "iopub.status.idle": "2023-08-04T13:52:55.963960Z",
     "shell.execute_reply": "2023-08-04T13:52:55.963145Z"
    },
    "papermill": {
     "duration": 0.03626,
     "end_time": "2023-08-04T13:52:55.966152",
     "exception": false,
     "start_time": "2023-08-04T13:52:55.929892",
     "status": "completed"
    },
    "tags": []
   },
   "outputs": [],
   "source": [
    "# from sklearn.metrics import classification_report\n",
    "# y_pred = model.predict(x)\n",
    "# print(classification_report(y, y_pred))"
   ]
  },
  {
   "cell_type": "code",
   "execution_count": 71,
   "id": "c3f2f782",
   "metadata": {
    "execution": {
     "iopub.execute_input": "2023-08-04T13:52:56.024686Z",
     "iopub.status.busy": "2023-08-04T13:52:56.023488Z",
     "iopub.status.idle": "2023-08-04T13:52:56.028622Z",
     "shell.execute_reply": "2023-08-04T13:52:56.026992Z"
    },
    "papermill": {
     "duration": 0.037178,
     "end_time": "2023-08-04T13:52:56.031317",
     "exception": false,
     "start_time": "2023-08-04T13:52:55.994139",
     "status": "completed"
    },
    "tags": []
   },
   "outputs": [],
   "source": [
    "# from sklearn.metrics import confusion_matrix,ConfusionMatrixDisplay\n",
    "# cm = confusion_matrix(y, y_pred)\n",
    "# disp = ConfusionMatrixDisplay(confusion_matrix=cm)\n",
    "# disp.plot()\n",
    "# import matplotlib.pyplot as plt\n",
    "# plt.show()"
   ]
  },
  {
   "cell_type": "code",
   "execution_count": 72,
   "id": "63d77218",
   "metadata": {
    "execution": {
     "iopub.execute_input": "2023-08-04T13:52:56.090569Z",
     "iopub.status.busy": "2023-08-04T13:52:56.090171Z",
     "iopub.status.idle": "2023-08-04T13:52:56.094878Z",
     "shell.execute_reply": "2023-08-04T13:52:56.093797Z"
    },
    "papermill": {
     "duration": 0.037691,
     "end_time": "2023-08-04T13:52:56.097136",
     "exception": false,
     "start_time": "2023-08-04T13:52:56.059445",
     "status": "completed"
    },
    "tags": []
   },
   "outputs": [],
   "source": [
    "# from sklearn.preprocessing import LabelEncoder\n",
    "# le = LabelEncoder()\n",
    "# y_encoded = le.fit_transform(y)"
   ]
  },
  {
   "cell_type": "code",
   "execution_count": 73,
   "id": "fafe3c55",
   "metadata": {
    "execution": {
     "iopub.execute_input": "2023-08-04T13:52:56.156093Z",
     "iopub.status.busy": "2023-08-04T13:52:56.155702Z",
     "iopub.status.idle": "2023-08-04T13:52:56.161110Z",
     "shell.execute_reply": "2023-08-04T13:52:56.160013Z"
    },
    "papermill": {
     "duration": 0.037512,
     "end_time": "2023-08-04T13:52:56.163852",
     "exception": false,
     "start_time": "2023-08-04T13:52:56.126340",
     "status": "completed"
    },
    "tags": []
   },
   "outputs": [],
   "source": [
    "# from sklearn.metrics import roc_curve\n",
    "# from sklearn.metrics import roc_auc_score\n",
    "# from matplotlib import pyplot\n",
    "# ns_probs = [0 for _ in range(len(y_encoded))]\n",
    "# lr_probs = model.predict_proba(x)\n",
    "# lr_probs = lr_probs[:, 1]\n",
    "# # calculate scores\n",
    "# ns_auc = roc_auc_score(y_encoded, ns_probs)\n",
    "# lr_auc = roc_auc_score(y_encoded, lr_probs)\n",
    "# # summarize scores\n",
    "# print('No Skill: ROC AUC=%.3f' % (ns_auc))\n",
    "# print('Logistic: ROC AUC=%.3f' % (lr_auc))\n",
    "# # calculate roc curves\n",
    "# ns_fpr, ns_tpr, _ = roc_curve(y_encoded, ns_probs)\n",
    "# lr_fpr, lr_tpr, _ = roc_curve(y_encoded, lr_probs)\n",
    "# # plot the roc curve for the model\n",
    "# pyplot.plot(ns_fpr, ns_tpr, linestyle='--', label='No Skill')\n",
    "# pyplot.plot(lr_fpr, lr_tpr, marker='.', label='Logistic')\n",
    "# # axis labels\n",
    "# pyplot.xlabel('False Positive Rate')\n",
    "# pyplot.ylabel('True Positive Rate')\n",
    "# # show the legend\n",
    "# pyplot.legend()\n",
    "# # show the plot\n",
    "# pyplot.show()"
   ]
  },
  {
   "cell_type": "markdown",
   "id": "91995f44",
   "metadata": {
    "papermill": {
     "duration": 0.026834,
     "end_time": "2023-08-04T13:52:56.217834",
     "exception": false,
     "start_time": "2023-08-04T13:52:56.191000",
     "status": "completed"
    },
    "tags": []
   },
   "source": [
    "# BOOSTING"
   ]
  },
  {
   "cell_type": "code",
   "execution_count": 74,
   "id": "ec2fb429",
   "metadata": {
    "execution": {
     "iopub.execute_input": "2023-08-04T13:52:56.274607Z",
     "iopub.status.busy": "2023-08-04T13:52:56.273924Z",
     "iopub.status.idle": "2023-08-04T13:52:56.278216Z",
     "shell.execute_reply": "2023-08-04T13:52:56.277492Z"
    },
    "papermill": {
     "duration": 0.035306,
     "end_time": "2023-08-04T13:52:56.280255",
     "exception": false,
     "start_time": "2023-08-04T13:52:56.244949",
     "status": "completed"
    },
    "tags": []
   },
   "outputs": [],
   "source": [
    "# from sklearn.ensemble import GradientBoostingClassifier as gbc\n",
    "# model = gbc()\n",
    "# model.fit(X_model,y)"
   ]
  },
  {
   "cell_type": "markdown",
   "id": "8e580f6f",
   "metadata": {
    "papermill": {
     "duration": 0.028389,
     "end_time": "2023-08-04T13:52:56.336871",
     "exception": false,
     "start_time": "2023-08-04T13:52:56.308482",
     "status": "completed"
    },
    "tags": []
   },
   "source": [
    "Micro F1 score on test.csv : 0.69858"
   ]
  },
  {
   "cell_type": "markdown",
   "id": "1a59169f",
   "metadata": {
    "papermill": {
     "duration": 0.026934,
     "end_time": "2023-08-04T13:52:56.390777",
     "exception": false,
     "start_time": "2023-08-04T13:52:56.363843",
     "status": "completed"
    },
    "tags": []
   },
   "source": [
    "# Multilayer Perceptron"
   ]
  },
  {
   "cell_type": "code",
   "execution_count": 75,
   "id": "a76166e0",
   "metadata": {
    "execution": {
     "iopub.execute_input": "2023-08-04T13:52:56.446638Z",
     "iopub.status.busy": "2023-08-04T13:52:56.445894Z",
     "iopub.status.idle": "2023-08-04T13:52:56.450813Z",
     "shell.execute_reply": "2023-08-04T13:52:56.449907Z"
    },
    "papermill": {
     "duration": 0.035752,
     "end_time": "2023-08-04T13:52:56.453200",
     "exception": false,
     "start_time": "2023-08-04T13:52:56.417448",
     "status": "completed"
    },
    "tags": []
   },
   "outputs": [],
   "source": [
    "# from sklearn.neural_network import MLPClassifier\n",
    "# mlp = MLPClassifier(hidden_layer_sizes=(6,5),\n",
    "#                    random_state=5,\n",
    "#                    verbose=True,\n",
    "#                    learning_rate_init=0.01,\n",
    "#                    max_iter=25)\n",
    "# clf = Pipeline([('preprocessor', processor),\n",
    "#                 ('mlp',mlp)])"
   ]
  },
  {
   "cell_type": "code",
   "execution_count": 76,
   "id": "9d67c500",
   "metadata": {
    "execution": {
     "iopub.execute_input": "2023-08-04T13:52:56.511301Z",
     "iopub.status.busy": "2023-08-04T13:52:56.510716Z",
     "iopub.status.idle": "2023-08-04T13:52:56.515981Z",
     "shell.execute_reply": "2023-08-04T13:52:56.514827Z"
    },
    "papermill": {
     "duration": 0.037121,
     "end_time": "2023-08-04T13:52:56.518077",
     "exception": false,
     "start_time": "2023-08-04T13:52:56.480956",
     "status": "completed"
    },
    "tags": []
   },
   "outputs": [],
   "source": [
    "# model = clf.fit(x_train,y_train)"
   ]
  },
  {
   "cell_type": "code",
   "execution_count": 77,
   "id": "69f5d474",
   "metadata": {
    "execution": {
     "iopub.execute_input": "2023-08-04T13:52:56.573731Z",
     "iopub.status.busy": "2023-08-04T13:52:56.573239Z",
     "iopub.status.idle": "2023-08-04T13:52:56.578648Z",
     "shell.execute_reply": "2023-08-04T13:52:56.577241Z"
    },
    "papermill": {
     "duration": 0.036171,
     "end_time": "2023-08-04T13:52:56.580889",
     "exception": false,
     "start_time": "2023-08-04T13:52:56.544718",
     "status": "completed"
    },
    "tags": []
   },
   "outputs": [],
   "source": [
    "# print(\"Accuracy:\",model.score(x_train, y_train))"
   ]
  },
  {
   "cell_type": "code",
   "execution_count": 78,
   "id": "6f46d9a6",
   "metadata": {
    "execution": {
     "iopub.execute_input": "2023-08-04T13:52:56.637286Z",
     "iopub.status.busy": "2023-08-04T13:52:56.636841Z",
     "iopub.status.idle": "2023-08-04T13:52:56.641441Z",
     "shell.execute_reply": "2023-08-04T13:52:56.640318Z"
    },
    "papermill": {
     "duration": 0.035167,
     "end_time": "2023-08-04T13:52:56.643526",
     "exception": false,
     "start_time": "2023-08-04T13:52:56.608359",
     "status": "completed"
    },
    "tags": []
   },
   "outputs": [],
   "source": [
    "# print(\"Accuracy:\",model.score(x_test, y_test))"
   ]
  },
  {
   "cell_type": "markdown",
   "id": "2c8e6656",
   "metadata": {
    "papermill": {
     "duration": 0.026442,
     "end_time": "2023-08-04T13:52:56.696622",
     "exception": false,
     "start_time": "2023-08-04T13:52:56.670180",
     "status": "completed"
    },
    "tags": []
   },
   "source": [
    "# Voting Classifier (MLPClassifier and Logreg)"
   ]
  },
  {
   "cell_type": "code",
   "execution_count": 79,
   "id": "7ce77c34",
   "metadata": {
    "execution": {
     "iopub.execute_input": "2023-08-04T13:52:56.752351Z",
     "iopub.status.busy": "2023-08-04T13:52:56.751947Z",
     "iopub.status.idle": "2023-08-04T13:52:56.755964Z",
     "shell.execute_reply": "2023-08-04T13:52:56.755091Z"
    },
    "papermill": {
     "duration": 0.034623,
     "end_time": "2023-08-04T13:52:56.758159",
     "exception": false,
     "start_time": "2023-08-04T13:52:56.723536",
     "status": "completed"
    },
    "tags": []
   },
   "outputs": [],
   "source": [
    "# from sklearn.ensemble import VotingClassifier\n",
    "# eclf = VotingClassifier(estimators=[('lor', lor), ('mlp', mlp)],voting='soft')\n",
    "# clf = Pipeline([('preprocessor', processor),\n",
    "#                 ('voting',eclf)])\n",
    "# model = clf.fit(x,y)"
   ]
  },
  {
   "cell_type": "code",
   "execution_count": 80,
   "id": "3bae40ab",
   "metadata": {
    "execution": {
     "iopub.execute_input": "2023-08-04T13:52:56.814440Z",
     "iopub.status.busy": "2023-08-04T13:52:56.813655Z",
     "iopub.status.idle": "2023-08-04T13:52:56.817685Z",
     "shell.execute_reply": "2023-08-04T13:52:56.816890Z"
    },
    "papermill": {
     "duration": 0.034391,
     "end_time": "2023-08-04T13:52:56.819614",
     "exception": false,
     "start_time": "2023-08-04T13:52:56.785223",
     "status": "completed"
    },
    "tags": []
   },
   "outputs": [],
   "source": [
    "# print(\"Accuracy:\",model.score(x, y))"
   ]
  },
  {
   "cell_type": "code",
   "execution_count": 81,
   "id": "afe1870c",
   "metadata": {
    "execution": {
     "iopub.execute_input": "2023-08-04T13:52:56.876520Z",
     "iopub.status.busy": "2023-08-04T13:52:56.875728Z",
     "iopub.status.idle": "2023-08-04T13:52:56.880321Z",
     "shell.execute_reply": "2023-08-04T13:52:56.879379Z"
    },
    "papermill": {
     "duration": 0.035384,
     "end_time": "2023-08-04T13:52:56.882368",
     "exception": false,
     "start_time": "2023-08-04T13:52:56.846984",
     "status": "completed"
    },
    "tags": []
   },
   "outputs": [],
   "source": [
    "# from sklearn.metrics import classification_report\n",
    "# y_pred = model.predict(x)\n",
    "# print(classification_report(y, y_pred))"
   ]
  },
  {
   "cell_type": "code",
   "execution_count": 82,
   "id": "1a70294f",
   "metadata": {
    "execution": {
     "iopub.execute_input": "2023-08-04T13:52:56.939751Z",
     "iopub.status.busy": "2023-08-04T13:52:56.938927Z",
     "iopub.status.idle": "2023-08-04T13:52:56.943637Z",
     "shell.execute_reply": "2023-08-04T13:52:56.942383Z"
    },
    "papermill": {
     "duration": 0.037142,
     "end_time": "2023-08-04T13:52:56.946410",
     "exception": false,
     "start_time": "2023-08-04T13:52:56.909268",
     "status": "completed"
    },
    "tags": []
   },
   "outputs": [],
   "source": [
    "# from sklearn.metrics import confusion_matrix,ConfusionMatrixDisplay\n",
    "# cm = confusion_matrix(y, y_pred)\n",
    "# disp = ConfusionMatrixDisplay(confusion_matrix=cm)\n",
    "# disp.plot()\n",
    "# import matplotlib.pyplot as plt\n",
    "# plt.show()"
   ]
  },
  {
   "cell_type": "markdown",
   "id": "3d361ca4",
   "metadata": {
    "papermill": {
     "duration": 0.027113,
     "end_time": "2023-08-04T13:52:57.000562",
     "exception": false,
     "start_time": "2023-08-04T13:52:56.973449",
     "status": "completed"
    },
    "tags": []
   },
   "source": [
    "Micro F1 score on test.csv : 0.75744"
   ]
  },
  {
   "cell_type": "markdown",
   "id": "4002b85e",
   "metadata": {
    "papermill": {
     "duration": 0.027987,
     "end_time": "2023-08-04T13:52:57.055934",
     "exception": false,
     "start_time": "2023-08-04T13:52:57.027947",
     "status": "completed"
    },
    "tags": []
   },
   "source": [
    "# RESULTS\n",
    "\n",
    "Micro F1 score on test.csv : \n",
    "\n",
    "Logistic Regression : 0.81592\n",
    "\n",
    "CART / DECISION TREE : 0.69440\n",
    "\n",
    "Multilayer Perceptron : 0.75744"
   ]
  },
  {
   "cell_type": "code",
   "execution_count": 83,
   "id": "67cd6bac",
   "metadata": {
    "execution": {
     "iopub.execute_input": "2023-08-04T13:52:57.114103Z",
     "iopub.status.busy": "2023-08-04T13:52:57.113152Z",
     "iopub.status.idle": "2023-08-04T13:52:57.442946Z",
     "shell.execute_reply": "2023-08-04T13:52:57.441594Z"
    },
    "papermill": {
     "duration": 0.362239,
     "end_time": "2023-08-04T13:52:57.445799",
     "exception": false,
     "start_time": "2023-08-04T13:52:57.083560",
     "status": "completed"
    },
    "tags": []
   },
   "outputs": [
    {
     "data": {
      "text/html": [
       "<div>\n",
       "<style scoped>\n",
       "    .dataframe tbody tr th:only-of-type {\n",
       "        vertical-align: middle;\n",
       "    }\n",
       "\n",
       "    .dataframe tbody tr th {\n",
       "        vertical-align: top;\n",
       "    }\n",
       "\n",
       "    .dataframe thead th {\n",
       "        text-align: right;\n",
       "    }\n",
       "</style>\n",
       "<table border=\"1\" class=\"dataframe\">\n",
       "  <thead>\n",
       "    <tr style=\"text-align: right;\">\n",
       "      <th></th>\n",
       "      <th>movieid</th>\n",
       "      <th>reviewerName</th>\n",
       "      <th>isTopCritic</th>\n",
       "      <th>reviewText</th>\n",
       "    </tr>\n",
       "  </thead>\n",
       "  <tbody>\n",
       "    <tr>\n",
       "      <th>0</th>\n",
       "      <td>legend_marty_mcfly_oracle</td>\n",
       "      <td>John Kim</td>\n",
       "      <td>False</td>\n",
       "      <td>Green slowly cranks up the dread with style an...</td>\n",
       "    </tr>\n",
       "    <tr>\n",
       "      <th>1</th>\n",
       "      <td>terminator_katniss_everdeen_glimmer</td>\n",
       "      <td>Brian Chaney</td>\n",
       "      <td>False</td>\n",
       "      <td>Philip Noyce's direction is elegant and unforc...</td>\n",
       "    </tr>\n",
       "    <tr>\n",
       "      <th>2</th>\n",
       "      <td>james_bond_labyrinth_gollum</td>\n",
       "      <td>Danielle Parker</td>\n",
       "      <td>False</td>\n",
       "      <td>It wouldn't do to say what path Maria ultimate...</td>\n",
       "    </tr>\n",
       "    <tr>\n",
       "      <th>3</th>\n",
       "      <td>v_quest_han_solo_wondrous</td>\n",
       "      <td>Brittany Lane</td>\n",
       "      <td>False</td>\n",
       "      <td>Pig is not exactly the arthouse John Wick that...</td>\n",
       "    </tr>\n",
       "    <tr>\n",
       "      <th>4</th>\n",
       "      <td>enigma_hulk_surreal_starlight</td>\n",
       "      <td>Justin Willis</td>\n",
       "      <td>False</td>\n",
       "      <td>An imaginative no-budget musical of sorts abou...</td>\n",
       "    </tr>\n",
       "  </tbody>\n",
       "</table>\n",
       "</div>"
      ],
      "text/plain": [
       "                               movieid     reviewerName  isTopCritic  \\\n",
       "0            legend_marty_mcfly_oracle         John Kim        False   \n",
       "1  terminator_katniss_everdeen_glimmer     Brian Chaney        False   \n",
       "2          james_bond_labyrinth_gollum  Danielle Parker        False   \n",
       "3            v_quest_han_solo_wondrous    Brittany Lane        False   \n",
       "4        enigma_hulk_surreal_starlight    Justin Willis        False   \n",
       "\n",
       "                                          reviewText  \n",
       "0  Green slowly cranks up the dread with style an...  \n",
       "1  Philip Noyce's direction is elegant and unforc...  \n",
       "2  It wouldn't do to say what path Maria ultimate...  \n",
       "3  Pig is not exactly the arthouse John Wick that...  \n",
       "4  An imaginative no-budget musical of sorts abou...  "
      ]
     },
     "execution_count": 83,
     "metadata": {},
     "output_type": "execute_result"
    }
   ],
   "source": [
    "test = pd.read_csv(\"../input/sentiment-prediction-on-movie-reviews/test.csv\")\n",
    "test.head()"
   ]
  },
  {
   "cell_type": "code",
   "execution_count": 84,
   "id": "8dc7f867",
   "metadata": {
    "execution": {
     "iopub.execute_input": "2023-08-04T13:52:57.504119Z",
     "iopub.status.busy": "2023-08-04T13:52:57.503720Z",
     "iopub.status.idle": "2023-08-04T13:52:57.507450Z",
     "shell.execute_reply": "2023-08-04T13:52:57.506701Z"
    },
    "papermill": {
     "duration": 0.035408,
     "end_time": "2023-08-04T13:52:57.509401",
     "exception": false,
     "start_time": "2023-08-04T13:52:57.473993",
     "status": "completed"
    },
    "tags": []
   },
   "outputs": [],
   "source": [
    "# test_df=test.drop(['movieid','reviewerName'], axis=1)\n",
    "# test_df['reviewText']=test_df['reviewText'].fillna('')\n",
    "\n",
    "# # processor=full_pipeline.transform(test_df)\n",
    "# # #test_predictions = lr.predict(test_df)\n",
    "# # processor.toarray()\n",
    "# test_df\n",
    "# test_df.rename(columns={'isTopCritic': 'isFrequentReviewer'}, inplace=True)"
   ]
  },
  {
   "cell_type": "code",
   "execution_count": 85,
   "id": "04527f81",
   "metadata": {
    "execution": {
     "iopub.execute_input": "2023-08-04T13:52:57.571999Z",
     "iopub.status.busy": "2023-08-04T13:52:57.570322Z",
     "iopub.status.idle": "2023-08-04T13:52:57.817236Z",
     "shell.execute_reply": "2023-08-04T13:52:57.815846Z"
    },
    "papermill": {
     "duration": 0.280287,
     "end_time": "2023-08-04T13:52:57.819927",
     "exception": false,
     "start_time": "2023-08-04T13:52:57.539640",
     "status": "completed"
    },
    "tags": []
   },
   "outputs": [
    {
     "data": {
      "text/html": [
       "<div>\n",
       "<style scoped>\n",
       "    .dataframe tbody tr th:only-of-type {\n",
       "        vertical-align: middle;\n",
       "    }\n",
       "\n",
       "    .dataframe tbody tr th {\n",
       "        vertical-align: top;\n",
       "    }\n",
       "\n",
       "    .dataframe thead th {\n",
       "        text-align: right;\n",
       "    }\n",
       "</style>\n",
       "<table border=\"1\" class=\"dataframe\">\n",
       "  <thead>\n",
       "    <tr style=\"text-align: right;\">\n",
       "      <th></th>\n",
       "      <th>isFrequentReviewer</th>\n",
       "      <th>reviewText</th>\n",
       "      <th>audienceScore</th>\n",
       "    </tr>\n",
       "  </thead>\n",
       "  <tbody>\n",
       "    <tr>\n",
       "      <th>0</th>\n",
       "      <td>False</td>\n",
       "      <td>Green slowly cranks up the dread with style an...</td>\n",
       "      <td>57.0</td>\n",
       "    </tr>\n",
       "    <tr>\n",
       "      <th>1</th>\n",
       "      <td>False</td>\n",
       "      <td>Philip Noyce's direction is elegant and unforc...</td>\n",
       "      <td>86.0</td>\n",
       "    </tr>\n",
       "    <tr>\n",
       "      <th>2</th>\n",
       "      <td>False</td>\n",
       "      <td>It wouldn't do to say what path Maria ultimate...</td>\n",
       "      <td>62.0</td>\n",
       "    </tr>\n",
       "    <tr>\n",
       "      <th>3</th>\n",
       "      <td>False</td>\n",
       "      <td>Pig is not exactly the arthouse John Wick that...</td>\n",
       "      <td>84.0</td>\n",
       "    </tr>\n",
       "    <tr>\n",
       "      <th>4</th>\n",
       "      <td>False</td>\n",
       "      <td>An imaginative no-budget musical of sorts abou...</td>\n",
       "      <td>NaN</td>\n",
       "    </tr>\n",
       "    <tr>\n",
       "      <th>...</th>\n",
       "      <td>...</td>\n",
       "      <td>...</td>\n",
       "      <td>...</td>\n",
       "    </tr>\n",
       "    <tr>\n",
       "      <th>55310</th>\n",
       "      <td>False</td>\n",
       "      <td>Ron Howard delivers an unconventional romantic...</td>\n",
       "      <td>29.0</td>\n",
       "    </tr>\n",
       "    <tr>\n",
       "      <th>55311</th>\n",
       "      <td>False</td>\n",
       "      <td>As an oddball art film that openly invites you...</td>\n",
       "      <td>71.0</td>\n",
       "    </tr>\n",
       "    <tr>\n",
       "      <th>55312</th>\n",
       "      <td>False</td>\n",
       "      <td>Nicholson wears his devilish grin from his fir...</td>\n",
       "      <td>60.0</td>\n",
       "    </tr>\n",
       "    <tr>\n",
       "      <th>55313</th>\n",
       "      <td>True</td>\n",
       "      <td>It's hard not be entertained by two dozen of C...</td>\n",
       "      <td>65.0</td>\n",
       "    </tr>\n",
       "    <tr>\n",
       "      <th>55314</th>\n",
       "      <td>True</td>\n",
       "      <td>Not clever enough for Smith fans, not gross en...</td>\n",
       "      <td>75.0</td>\n",
       "    </tr>\n",
       "  </tbody>\n",
       "</table>\n",
       "<p>55315 rows × 3 columns</p>\n",
       "</div>"
      ],
      "text/plain": [
       "       isFrequentReviewer                                         reviewText  \\\n",
       "0                   False  Green slowly cranks up the dread with style an...   \n",
       "1                   False  Philip Noyce's direction is elegant and unforc...   \n",
       "2                   False  It wouldn't do to say what path Maria ultimate...   \n",
       "3                   False  Pig is not exactly the arthouse John Wick that...   \n",
       "4                   False  An imaginative no-budget musical of sorts abou...   \n",
       "...                   ...                                                ...   \n",
       "55310               False  Ron Howard delivers an unconventional romantic...   \n",
       "55311               False  As an oddball art film that openly invites you...   \n",
       "55312               False  Nicholson wears his devilish grin from his fir...   \n",
       "55313                True  It's hard not be entertained by two dozen of C...   \n",
       "55314                True  Not clever enough for Smith fans, not gross en...   \n",
       "\n",
       "       audienceScore  \n",
       "0               57.0  \n",
       "1               86.0  \n",
       "2               62.0  \n",
       "3               84.0  \n",
       "4                NaN  \n",
       "...              ...  \n",
       "55310           29.0  \n",
       "55311           71.0  \n",
       "55312           60.0  \n",
       "55313           65.0  \n",
       "55314           75.0  \n",
       "\n",
       "[55315 rows x 3 columns]"
      ]
     },
     "execution_count": 85,
     "metadata": {},
     "output_type": "execute_result"
    }
   ],
   "source": [
    "movies_dataset = movies_dataset.drop_duplicates(subset=\"movieid\")\n",
    "merged_data_test = pd.merge(test, movies_dataset, how=\"left\", on=\"movieid\")\n",
    "merged_data_test.head()\n",
    "test_df=merged_data_test.drop(['movieid','reviewerName'], axis=1)\n",
    "test_df['reviewText']=test_df['reviewText'].fillna('')\n",
    "test_df.rename(columns={'isTopCritic': 'isFrequentReviewer'}, inplace=True)\n",
    "test_df=test_df[['isFrequentReviewer','reviewText','audienceScore']]\n",
    "test_df"
   ]
  },
  {
   "cell_type": "code",
   "execution_count": 86,
   "id": "28b61e73",
   "metadata": {
    "execution": {
     "iopub.execute_input": "2023-08-04T13:52:57.880795Z",
     "iopub.status.busy": "2023-08-04T13:52:57.879661Z",
     "iopub.status.idle": "2023-08-04T13:52:59.284713Z",
     "shell.execute_reply": "2023-08-04T13:52:59.283288Z"
    },
    "papermill": {
     "duration": 1.439113,
     "end_time": "2023-08-04T13:52:59.287724",
     "exception": false,
     "start_time": "2023-08-04T13:52:57.848611",
     "status": "completed"
    },
    "tags": []
   },
   "outputs": [
    {
     "data": {
      "text/plain": [
       "array(['POSITIVE', 'POSITIVE', 'POSITIVE', ..., 'POSITIVE', 'POSITIVE',\n",
       "       'NEGATIVE'], dtype=object)"
      ]
     },
     "execution_count": 86,
     "metadata": {},
     "output_type": "execute_result"
    }
   ],
   "source": [
    "test_predictions = model.predict(test_df)\n",
    "test_predictions"
   ]
  },
  {
   "cell_type": "code",
   "execution_count": 87,
   "id": "f037ddd2",
   "metadata": {
    "execution": {
     "iopub.execute_input": "2023-08-04T13:52:59.349662Z",
     "iopub.status.busy": "2023-08-04T13:52:59.348967Z",
     "iopub.status.idle": "2023-08-04T13:52:59.401494Z",
     "shell.execute_reply": "2023-08-04T13:52:59.400374Z"
    },
    "papermill": {
     "duration": 0.085476,
     "end_time": "2023-08-04T13:52:59.403966",
     "exception": false,
     "start_time": "2023-08-04T13:52:59.318490",
     "status": "completed"
    },
    "tags": []
   },
   "outputs": [],
   "source": [
    "submission = pd.DataFrame(columns=['id','sentiment'])\n",
    "submission['id'] = [i for i in range(len(test_predictions))]\n",
    "submission['sentiment']=test_predictions"
   ]
  },
  {
   "cell_type": "code",
   "execution_count": 88,
   "id": "17f67df0",
   "metadata": {
    "execution": {
     "iopub.execute_input": "2023-08-04T13:52:59.461327Z",
     "iopub.status.busy": "2023-08-04T13:52:59.460592Z",
     "iopub.status.idle": "2023-08-04T13:52:59.467293Z",
     "shell.execute_reply": "2023-08-04T13:52:59.465969Z"
    },
    "papermill": {
     "duration": 0.038169,
     "end_time": "2023-08-04T13:52:59.469548",
     "exception": false,
     "start_time": "2023-08-04T13:52:59.431379",
     "status": "completed"
    },
    "tags": []
   },
   "outputs": [
    {
     "data": {
      "text/plain": [
       "(55315, 2)"
      ]
     },
     "execution_count": 88,
     "metadata": {},
     "output_type": "execute_result"
    }
   ],
   "source": [
    "submission.shape"
   ]
  },
  {
   "cell_type": "code",
   "execution_count": 89,
   "id": "97eba2e8",
   "metadata": {
    "execution": {
     "iopub.execute_input": "2023-08-04T13:52:59.528261Z",
     "iopub.status.busy": "2023-08-04T13:52:59.527796Z",
     "iopub.status.idle": "2023-08-04T13:52:59.552335Z",
     "shell.execute_reply": "2023-08-04T13:52:59.550891Z"
    },
    "papermill": {
     "duration": 0.057308,
     "end_time": "2023-08-04T13:52:59.554795",
     "exception": false,
     "start_time": "2023-08-04T13:52:59.497487",
     "status": "completed"
    },
    "tags": []
   },
   "outputs": [
    {
     "name": "stdout",
     "output_type": "stream",
     "text": [
      "<class 'pandas.core.frame.DataFrame'>\n",
      "RangeIndex: 55315 entries, 0 to 55314\n",
      "Data columns (total 2 columns):\n",
      " #   Column     Non-Null Count  Dtype \n",
      "---  ------     --------------  ----- \n",
      " 0   id         55315 non-null  int64 \n",
      " 1   sentiment  55315 non-null  object\n",
      "dtypes: int64(1), object(1)\n",
      "memory usage: 864.4+ KB\n"
     ]
    }
   ],
   "source": [
    "submission.info()"
   ]
  },
  {
   "cell_type": "code",
   "execution_count": 90,
   "id": "909ff663",
   "metadata": {
    "execution": {
     "iopub.execute_input": "2023-08-04T13:52:59.613158Z",
     "iopub.status.busy": "2023-08-04T13:52:59.612684Z",
     "iopub.status.idle": "2023-08-04T13:52:59.710134Z",
     "shell.execute_reply": "2023-08-04T13:52:59.708969Z"
    },
    "papermill": {
     "duration": 0.129663,
     "end_time": "2023-08-04T13:52:59.713031",
     "exception": false,
     "start_time": "2023-08-04T13:52:59.583368",
     "status": "completed"
    },
    "tags": []
   },
   "outputs": [],
   "source": [
    "submission.to_csv('submission.csv',index=False)"
   ]
  }
 ],
 "metadata": {
  "kernelspec": {
   "display_name": "Python 3",
   "language": "python",
   "name": "python3"
  },
  "language_info": {
   "codemirror_mode": {
    "name": "ipython",
    "version": 3
   },
   "file_extension": ".py",
   "mimetype": "text/x-python",
   "name": "python",
   "nbconvert_exporter": "python",
   "pygments_lexer": "ipython3",
   "version": "3.10.10"
  },
  "papermill": {
   "default_parameters": {},
   "duration": 123.191295,
   "end_time": "2023-08-04T13:53:00.967383",
   "environment_variables": {},
   "exception": null,
   "input_path": "__notebook__.ipynb",
   "output_path": "__notebook__.ipynb",
   "parameters": {},
   "start_time": "2023-08-04T13:50:57.776088",
   "version": "2.4.0"
  }
 },
 "nbformat": 4,
 "nbformat_minor": 5
}
